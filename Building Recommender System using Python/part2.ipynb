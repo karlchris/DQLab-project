{
 "cells": [
  {
   "cell_type": "markdown",
   "metadata": {},
   "source": [
    "# Building Content Based Recommender System using Python"
   ]
  },
  {
   "cell_type": "markdown",
   "metadata": {},
   "source": [
    "## Introduction"
   ]
  },
  {
   "cell_type": "markdown",
   "metadata": {},
   "source": [
    "Pada bagian sebelumnya kita telah melihat bagaimana recommender system dibuat hanya dengan menggunakan average rating, dengan mengurutkan score yang terdapat komponen average rating secara descending, kita dapat mengetahui (secara estimasi) film mana yang menurut para audience paling menarik.\n",
    "\n",
    "Kali ini, kita akan membuat recommender system yang menggunakan Content/feature dari film/entitas tersebut, kemudian melakukan perhitungan terhadap kesamaannya satu dan yang lain sehingga ketika kita menunjuk ke satu film, kita akan mendapat beberapa film lain yang memiliki kesamaan dengan film tersebut. \n",
    "Hal ini biasa kita sebut sebagai Content Based Recommender System."
   ]
  },
  {
   "cell_type": "markdown",
   "metadata": {},
   "source": [
    "## Example\n",
    "\n",
    "dengan membandingkan kesamaan plot yang ada dan genre yang ada, ketika audience lebih menyukai film Narnia, maka content based recommender system ini akan juga merekomendasikan film seperti Harry Potter atau The Lords of The Rings yang memiliki genre yang mirip"
   ]
  },
  {
   "cell_type": "markdown",
   "metadata": {},
   "source": [
    "## Reference\n",
    "https://learning.oreilly.com/library/view/hands-on-recommendation-systems/9781788993753/f13439b5-0b39-4bf7-a674-d531265bac4a.xhtml"
   ]
  },
  {
   "cell_type": "markdown",
   "metadata": {},
   "source": [
    "## Script"
   ]
  },
  {
   "cell_type": "markdown",
   "metadata": {},
   "source": [
    "### Task 1: Unloading and checking datasets"
   ]
  },
  {
   "cell_type": "code",
   "execution_count": 153,
   "metadata": {
    "ExecuteTime": {
     "end_time": "2020-05-11T03:50:46.287410Z",
     "start_time": "2020-05-11T03:50:46.285011Z"
    }
   },
   "outputs": [],
   "source": [
    "#import basic libraries\n",
    "\n",
    "import pandas as pd\n",
    "import numpy as np"
   ]
  },
  {
   "cell_type": "code",
   "execution_count": 154,
   "metadata": {
    "ExecuteTime": {
     "end_time": "2020-05-11T03:50:48.027934Z",
     "start_time": "2020-05-11T03:50:46.289848Z"
    }
   },
   "outputs": [
    {
     "data": {
      "text/html": [
       "<div>\n",
       "<style scoped>\n",
       "    .dataframe tbody tr th:only-of-type {\n",
       "        vertical-align: middle;\n",
       "    }\n",
       "\n",
       "    .dataframe tbody tr th {\n",
       "        vertical-align: top;\n",
       "    }\n",
       "\n",
       "    .dataframe thead th {\n",
       "        text-align: right;\n",
       "    }\n",
       "</style>\n",
       "<table border=\"1\" class=\"dataframe\">\n",
       "  <thead>\n",
       "    <tr style=\"text-align: right;\">\n",
       "      <th></th>\n",
       "      <th>tconst</th>\n",
       "      <th>titleType</th>\n",
       "      <th>primaryTitle</th>\n",
       "      <th>originalTitle</th>\n",
       "      <th>isAdult</th>\n",
       "      <th>startYear</th>\n",
       "      <th>endYear</th>\n",
       "      <th>runtimeMinutes</th>\n",
       "      <th>genres</th>\n",
       "      <th>averageRating</th>\n",
       "      <th>numVotes</th>\n",
       "    </tr>\n",
       "  </thead>\n",
       "  <tbody>\n",
       "    <tr>\n",
       "      <th>0</th>\n",
       "      <td>tt0000001</td>\n",
       "      <td>short</td>\n",
       "      <td>Carmencita</td>\n",
       "      <td>Carmencita</td>\n",
       "      <td>0</td>\n",
       "      <td>1894.0</td>\n",
       "      <td>NaN</td>\n",
       "      <td>1.0</td>\n",
       "      <td>Documentary,Short</td>\n",
       "      <td>5.6</td>\n",
       "      <td>1608</td>\n",
       "    </tr>\n",
       "    <tr>\n",
       "      <th>1</th>\n",
       "      <td>tt0000002</td>\n",
       "      <td>short</td>\n",
       "      <td>Le clown et ses chiens</td>\n",
       "      <td>Le clown et ses chiens</td>\n",
       "      <td>0</td>\n",
       "      <td>1892.0</td>\n",
       "      <td>NaN</td>\n",
       "      <td>5.0</td>\n",
       "      <td>Animation,Short</td>\n",
       "      <td>6.0</td>\n",
       "      <td>197</td>\n",
       "    </tr>\n",
       "    <tr>\n",
       "      <th>2</th>\n",
       "      <td>tt0000003</td>\n",
       "      <td>short</td>\n",
       "      <td>Pauvre Pierrot</td>\n",
       "      <td>Pauvre Pierrot</td>\n",
       "      <td>0</td>\n",
       "      <td>1892.0</td>\n",
       "      <td>NaN</td>\n",
       "      <td>4.0</td>\n",
       "      <td>Animation,Comedy,Romance</td>\n",
       "      <td>6.5</td>\n",
       "      <td>1285</td>\n",
       "    </tr>\n",
       "    <tr>\n",
       "      <th>3</th>\n",
       "      <td>tt0000004</td>\n",
       "      <td>short</td>\n",
       "      <td>Un bon bock</td>\n",
       "      <td>Un bon bock</td>\n",
       "      <td>0</td>\n",
       "      <td>1892.0</td>\n",
       "      <td>NaN</td>\n",
       "      <td>12.0</td>\n",
       "      <td>Animation,Short</td>\n",
       "      <td>6.1</td>\n",
       "      <td>121</td>\n",
       "    </tr>\n",
       "    <tr>\n",
       "      <th>4</th>\n",
       "      <td>tt0000005</td>\n",
       "      <td>short</td>\n",
       "      <td>Blacksmith Scene</td>\n",
       "      <td>Blacksmith Scene</td>\n",
       "      <td>0</td>\n",
       "      <td>1893.0</td>\n",
       "      <td>NaN</td>\n",
       "      <td>1.0</td>\n",
       "      <td>Comedy,Short</td>\n",
       "      <td>6.1</td>\n",
       "      <td>2050</td>\n",
       "    </tr>\n",
       "  </tbody>\n",
       "</table>\n",
       "</div>"
      ],
      "text/plain": [
       "      tconst titleType            primaryTitle           originalTitle  \\\n",
       "0  tt0000001     short              Carmencita              Carmencita   \n",
       "1  tt0000002     short  Le clown et ses chiens  Le clown et ses chiens   \n",
       "2  tt0000003     short          Pauvre Pierrot          Pauvre Pierrot   \n",
       "3  tt0000004     short             Un bon bock             Un bon bock   \n",
       "4  tt0000005     short        Blacksmith Scene        Blacksmith Scene   \n",
       "\n",
       "   isAdult  startYear  endYear  runtimeMinutes                    genres  \\\n",
       "0        0     1894.0      NaN             1.0         Documentary,Short   \n",
       "1        0     1892.0      NaN             5.0           Animation,Short   \n",
       "2        0     1892.0      NaN             4.0  Animation,Comedy,Romance   \n",
       "3        0     1892.0      NaN            12.0           Animation,Short   \n",
       "4        0     1893.0      NaN             1.0              Comedy,Short   \n",
       "\n",
       "   averageRating  numVotes  \n",
       "0            5.6      1608  \n",
       "1            6.0       197  \n",
       "2            6.5      1285  \n",
       "3            6.1       121  \n",
       "4            6.1      2050  "
      ]
     },
     "execution_count": 154,
     "metadata": {},
     "output_type": "execute_result"
    }
   ],
   "source": [
    "movie_rating_df = pd.read_csv('movie_rating_df.csv')\n",
    "movie_rating_df.head()"
   ]
  },
  {
   "cell_type": "code",
   "execution_count": 155,
   "metadata": {
    "ExecuteTime": {
     "end_time": "2020-05-11T03:50:48.175516Z",
     "start_time": "2020-05-11T03:50:48.030521Z"
    }
   },
   "outputs": [
    {
     "name": "stdout",
     "output_type": "stream",
     "text": [
      "<class 'pandas.core.frame.DataFrame'>\n",
      "RangeIndex: 751614 entries, 0 to 751613\n",
      "Data columns (total 11 columns):\n",
      "tconst            751614 non-null object\n",
      "titleType         751614 non-null object\n",
      "primaryTitle      751614 non-null object\n",
      "originalTitle     751614 non-null object\n",
      "isAdult           751614 non-null int64\n",
      "startYear         751614 non-null float64\n",
      "endYear           16072 non-null float64\n",
      "runtimeMinutes    751614 non-null float64\n",
      "genres            486766 non-null object\n",
      "averageRating     751614 non-null float64\n",
      "numVotes          751614 non-null int64\n",
      "dtypes: float64(4), int64(2), object(5)\n",
      "memory usage: 63.1+ MB\n"
     ]
    }
   ],
   "source": [
    "movie_rating_df.info()"
   ]
  },
  {
   "cell_type": "markdown",
   "metadata": {},
   "source": [
    "dari table di atas, kita bisa mendapatkan list film dengan beberapa metadata nya seperti isAdult, runtimeMinutes, dan genres nya\n",
    "\n",
    "selanjutnya kita akan menambahkan metadata lain seperti aktor/aktris yang bermain di film tersebut, kita akan bermain dengan dataframe lain kemudian akan melakukan join dengan dataframe di atas"
   ]
  },
  {
   "cell_type": "code",
   "execution_count": 156,
   "metadata": {
    "ExecuteTime": {
     "end_time": "2020-05-11T03:50:48.192561Z",
     "start_time": "2020-05-11T03:50:48.178130Z"
    }
   },
   "outputs": [
    {
     "data": {
      "text/html": [
       "<div>\n",
       "<style scoped>\n",
       "    .dataframe tbody tr th:only-of-type {\n",
       "        vertical-align: middle;\n",
       "    }\n",
       "\n",
       "    .dataframe tbody tr th {\n",
       "        vertical-align: top;\n",
       "    }\n",
       "\n",
       "    .dataframe thead th {\n",
       "        text-align: right;\n",
       "    }\n",
       "</style>\n",
       "<table border=\"1\" class=\"dataframe\">\n",
       "  <thead>\n",
       "    <tr style=\"text-align: right;\">\n",
       "      <th></th>\n",
       "      <th>nconst</th>\n",
       "      <th>primaryName</th>\n",
       "      <th>birthYear</th>\n",
       "      <th>deathYear</th>\n",
       "      <th>primaryProfession</th>\n",
       "      <th>knownForTitles</th>\n",
       "    </tr>\n",
       "  </thead>\n",
       "  <tbody>\n",
       "    <tr>\n",
       "      <th>0</th>\n",
       "      <td>nm1774132</td>\n",
       "      <td>Nathan McLaughlin</td>\n",
       "      <td>1973</td>\n",
       "      <td>\\N</td>\n",
       "      <td>special_effects,make_up_department</td>\n",
       "      <td>tt0417686,tt1713976,tt1891860,tt0454839</td>\n",
       "    </tr>\n",
       "    <tr>\n",
       "      <th>1</th>\n",
       "      <td>nm10683464</td>\n",
       "      <td>Bridge Andrew</td>\n",
       "      <td>\\N</td>\n",
       "      <td>\\N</td>\n",
       "      <td>actor</td>\n",
       "      <td>tt7718088</td>\n",
       "    </tr>\n",
       "    <tr>\n",
       "      <th>2</th>\n",
       "      <td>nm1021485</td>\n",
       "      <td>Brandon Fransvaag</td>\n",
       "      <td>\\N</td>\n",
       "      <td>\\N</td>\n",
       "      <td>miscellaneous</td>\n",
       "      <td>tt0168790</td>\n",
       "    </tr>\n",
       "    <tr>\n",
       "      <th>3</th>\n",
       "      <td>nm6940929</td>\n",
       "      <td>Erwin van der Lely</td>\n",
       "      <td>\\N</td>\n",
       "      <td>\\N</td>\n",
       "      <td>miscellaneous</td>\n",
       "      <td>tt4232168</td>\n",
       "    </tr>\n",
       "    <tr>\n",
       "      <th>4</th>\n",
       "      <td>nm5764974</td>\n",
       "      <td>Svetlana Shypitsyna</td>\n",
       "      <td>\\N</td>\n",
       "      <td>\\N</td>\n",
       "      <td>actress</td>\n",
       "      <td>tt3014168</td>\n",
       "    </tr>\n",
       "  </tbody>\n",
       "</table>\n",
       "</div>"
      ],
      "text/plain": [
       "       nconst          primaryName birthYear deathYear  \\\n",
       "0   nm1774132    Nathan McLaughlin      1973        \\N   \n",
       "1  nm10683464        Bridge Andrew        \\N        \\N   \n",
       "2   nm1021485    Brandon Fransvaag        \\N        \\N   \n",
       "3   nm6940929   Erwin van der Lely        \\N        \\N   \n",
       "4   nm5764974  Svetlana Shypitsyna        \\N        \\N   \n",
       "\n",
       "                    primaryProfession                           knownForTitles  \n",
       "0  special_effects,make_up_department  tt0417686,tt1713976,tt1891860,tt0454839  \n",
       "1                               actor                                tt7718088  \n",
       "2                       miscellaneous                                tt0168790  \n",
       "3                       miscellaneous                                tt4232168  \n",
       "4                             actress                                tt3014168  "
      ]
     },
     "execution_count": 156,
     "metadata": {},
     "output_type": "execute_result"
    }
   ],
   "source": [
    "name_df = pd.read_csv('actor_name.csv')\n",
    "name_df.head()"
   ]
  },
  {
   "cell_type": "markdown",
   "metadata": {},
   "source": [
    "pertama-tama kita tahu bahwa terdapat value NULL dengan format '\\\\N', kita akan menghapus data ini dari table dahulu"
   ]
  },
  {
   "cell_type": "code",
   "execution_count": 157,
   "metadata": {
    "ExecuteTime": {
     "end_time": "2020-05-11T03:50:48.201308Z",
     "start_time": "2020-05-11T03:50:48.194629Z"
    },
    "scrolled": true
   },
   "outputs": [
    {
     "name": "stdout",
     "output_type": "stream",
     "text": [
      "<class 'pandas.core.frame.DataFrame'>\n",
      "RangeIndex: 1000 entries, 0 to 999\n",
      "Data columns (total 6 columns):\n",
      "nconst               1000 non-null object\n",
      "primaryName          1000 non-null object\n",
      "birthYear            1000 non-null object\n",
      "deathYear            1000 non-null object\n",
      "primaryProfession    891 non-null object\n",
      "knownForTitles       1000 non-null object\n",
      "dtypes: object(6)\n",
      "memory usage: 47.0+ KB\n"
     ]
    }
   ],
   "source": [
    "name_df.info()"
   ]
  },
  {
   "cell_type": "code",
   "execution_count": 250,
   "metadata": {
    "ExecuteTime": {
     "end_time": "2020-05-11T19:52:15.598685Z",
     "start_time": "2020-05-11T19:52:15.572901Z"
    }
   },
   "outputs": [
    {
     "data": {
      "text/html": [
       "<div>\n",
       "<style scoped>\n",
       "    .dataframe tbody tr th:only-of-type {\n",
       "        vertical-align: middle;\n",
       "    }\n",
       "\n",
       "    .dataframe tbody tr th {\n",
       "        vertical-align: top;\n",
       "    }\n",
       "\n",
       "    .dataframe thead th {\n",
       "        text-align: right;\n",
       "    }\n",
       "</style>\n",
       "<table border=\"1\" class=\"dataframe\">\n",
       "  <thead>\n",
       "    <tr style=\"text-align: right;\">\n",
       "      <th></th>\n",
       "      <th>tconst</th>\n",
       "      <th>director_name</th>\n",
       "      <th>writer_name</th>\n",
       "    </tr>\n",
       "  </thead>\n",
       "  <tbody>\n",
       "    <tr>\n",
       "      <th>0</th>\n",
       "      <td>tt0011414</td>\n",
       "      <td>David Kirkland</td>\n",
       "      <td>John Emerson,Anita Loos</td>\n",
       "    </tr>\n",
       "    <tr>\n",
       "      <th>1</th>\n",
       "      <td>tt0011890</td>\n",
       "      <td>Roy William Neill</td>\n",
       "      <td>Arthur F. Goodrich,Burns Mantle,Mary Murillo</td>\n",
       "    </tr>\n",
       "    <tr>\n",
       "      <th>2</th>\n",
       "      <td>tt0014341</td>\n",
       "      <td>Buster Keaton,John G. Blystone</td>\n",
       "      <td>Jean C. Havez,Clyde Bruckman,Joseph A. Mitchell</td>\n",
       "    </tr>\n",
       "    <tr>\n",
       "      <th>3</th>\n",
       "      <td>tt0018054</td>\n",
       "      <td>Cecil B. DeMille</td>\n",
       "      <td>Jeanie Macpherson</td>\n",
       "    </tr>\n",
       "    <tr>\n",
       "      <th>4</th>\n",
       "      <td>tt0024151</td>\n",
       "      <td>James Cruze</td>\n",
       "      <td>Max Miller,Wells Root,Jack Jevne</td>\n",
       "    </tr>\n",
       "  </tbody>\n",
       "</table>\n",
       "</div>"
      ],
      "text/plain": [
       "      tconst                   director_name  \\\n",
       "0  tt0011414                  David Kirkland   \n",
       "1  tt0011890               Roy William Neill   \n",
       "2  tt0014341  Buster Keaton,John G. Blystone   \n",
       "3  tt0018054                Cecil B. DeMille   \n",
       "4  tt0024151                     James Cruze   \n",
       "\n",
       "                                       writer_name  \n",
       "0                          John Emerson,Anita Loos  \n",
       "1     Arthur F. Goodrich,Burns Mantle,Mary Murillo  \n",
       "2  Jean C. Havez,Clyde Bruckman,Joseph A. Mitchell  \n",
       "3                                Jeanie Macpherson  \n",
       "4                 Max Miller,Wells Root,Jack Jevne  "
      ]
     },
     "execution_count": 250,
     "metadata": {},
     "output_type": "execute_result"
    }
   ],
   "source": [
    "director_writers = pd.read_csv('directors_writers.csv')\n",
    "director_writers.head()"
   ]
  },
  {
   "cell_type": "code",
   "execution_count": 251,
   "metadata": {
    "ExecuteTime": {
     "end_time": "2020-05-11T19:52:23.699132Z",
     "start_time": "2020-05-11T19:52:23.691196Z"
    }
   },
   "outputs": [
    {
     "name": "stdout",
     "output_type": "stream",
     "text": [
      "<class 'pandas.core.frame.DataFrame'>\n",
      "RangeIndex: 986 entries, 0 to 985\n",
      "Data columns (total 3 columns):\n",
      "tconst           986 non-null object\n",
      "director_name    986 non-null object\n",
      "writer_name      986 non-null object\n",
      "dtypes: object(3)\n",
      "memory usage: 23.2+ KB\n"
     ]
    }
   ],
   "source": [
    "director_writers.info()"
   ]
  },
  {
   "cell_type": "code",
   "execution_count": 252,
   "metadata": {
    "ExecuteTime": {
     "end_time": "2020-05-11T19:53:19.667076Z",
     "start_time": "2020-05-11T19:53:19.662026Z"
    }
   },
   "outputs": [
    {
     "data": {
      "text/plain": [
       "tconst           0\n",
       "director_name    0\n",
       "writer_name      0\n",
       "dtype: int64"
      ]
     },
     "execution_count": 252,
     "metadata": {},
     "output_type": "execute_result"
    }
   ],
   "source": [
    "director_writers.isnull().sum()"
   ]
  },
  {
   "cell_type": "markdown",
   "metadata": {},
   "source": [
    "untuk table director_writers tidak perlu dicleansing lagi karena sudah benar format dan isi datanya, cuma kita perlu untuk ubah director_name dan writer_name dari string menjadi list"
   ]
  },
  {
   "cell_type": "code",
   "execution_count": 253,
   "metadata": {
    "ExecuteTime": {
     "end_time": "2020-05-11T19:55:48.246136Z",
     "start_time": "2020-05-11T19:55:48.231179Z"
    }
   },
   "outputs": [
    {
     "data": {
      "text/html": [
       "<div>\n",
       "<style scoped>\n",
       "    .dataframe tbody tr th:only-of-type {\n",
       "        vertical-align: middle;\n",
       "    }\n",
       "\n",
       "    .dataframe tbody tr th {\n",
       "        vertical-align: top;\n",
       "    }\n",
       "\n",
       "    .dataframe thead th {\n",
       "        text-align: right;\n",
       "    }\n",
       "</style>\n",
       "<table border=\"1\" class=\"dataframe\">\n",
       "  <thead>\n",
       "    <tr style=\"text-align: right;\">\n",
       "      <th></th>\n",
       "      <th>tconst</th>\n",
       "      <th>director_name</th>\n",
       "      <th>writer_name</th>\n",
       "    </tr>\n",
       "  </thead>\n",
       "  <tbody>\n",
       "    <tr>\n",
       "      <th>0</th>\n",
       "      <td>tt0011414</td>\n",
       "      <td>[David Kirkland]</td>\n",
       "      <td>[John Emerson, Anita Loos]</td>\n",
       "    </tr>\n",
       "    <tr>\n",
       "      <th>1</th>\n",
       "      <td>tt0011890</td>\n",
       "      <td>[Roy William Neill]</td>\n",
       "      <td>[Arthur F. Goodrich, Burns Mantle, Mary Murillo]</td>\n",
       "    </tr>\n",
       "    <tr>\n",
       "      <th>2</th>\n",
       "      <td>tt0014341</td>\n",
       "      <td>[Buster Keaton, John G. Blystone]</td>\n",
       "      <td>[Jean C. Havez, Clyde Bruckman, Joseph A. Mitc...</td>\n",
       "    </tr>\n",
       "    <tr>\n",
       "      <th>3</th>\n",
       "      <td>tt0018054</td>\n",
       "      <td>[Cecil B. DeMille]</td>\n",
       "      <td>[Jeanie Macpherson]</td>\n",
       "    </tr>\n",
       "    <tr>\n",
       "      <th>4</th>\n",
       "      <td>tt0024151</td>\n",
       "      <td>[James Cruze]</td>\n",
       "      <td>[Max Miller, Wells Root, Jack Jevne]</td>\n",
       "    </tr>\n",
       "  </tbody>\n",
       "</table>\n",
       "</div>"
      ],
      "text/plain": [
       "      tconst                      director_name  \\\n",
       "0  tt0011414                   [David Kirkland]   \n",
       "1  tt0011890                [Roy William Neill]   \n",
       "2  tt0014341  [Buster Keaton, John G. Blystone]   \n",
       "3  tt0018054                 [Cecil B. DeMille]   \n",
       "4  tt0024151                      [James Cruze]   \n",
       "\n",
       "                                         writer_name  \n",
       "0                         [John Emerson, Anita Loos]  \n",
       "1   [Arthur F. Goodrich, Burns Mantle, Mary Murillo]  \n",
       "2  [Jean C. Havez, Clyde Bruckman, Joseph A. Mitc...  \n",
       "3                                [Jeanie Macpherson]  \n",
       "4               [Max Miller, Wells Root, Jack Jevne]  "
      ]
     },
     "execution_count": 253,
     "metadata": {},
     "output_type": "execute_result"
    }
   ],
   "source": [
    "director_writers['director_name'] = director_writers['director_name'].apply(lambda row: row.split(','))\n",
    "director_writers['writer_name'] = director_writers['writer_name'].apply(lambda row: row.split(','))\n",
    "director_writers.head()"
   ]
  },
  {
   "cell_type": "markdown",
   "metadata": {},
   "source": [
    "### Task 2: Cleaning and Processing table cast"
   ]
  },
  {
   "cell_type": "markdown",
   "metadata": {},
   "source": [
    "kita akan cuma butuh kolom nconst, primaryName, dan knownForTitles untuk match aktor/aktris ini dengan film yang ada"
   ]
  },
  {
   "cell_type": "code",
   "execution_count": 158,
   "metadata": {
    "ExecuteTime": {
     "end_time": "2020-05-11T03:50:48.212159Z",
     "start_time": "2020-05-11T03:50:48.203611Z"
    }
   },
   "outputs": [
    {
     "data": {
      "text/html": [
       "<div>\n",
       "<style scoped>\n",
       "    .dataframe tbody tr th:only-of-type {\n",
       "        vertical-align: middle;\n",
       "    }\n",
       "\n",
       "    .dataframe tbody tr th {\n",
       "        vertical-align: top;\n",
       "    }\n",
       "\n",
       "    .dataframe thead th {\n",
       "        text-align: right;\n",
       "    }\n",
       "</style>\n",
       "<table border=\"1\" class=\"dataframe\">\n",
       "  <thead>\n",
       "    <tr style=\"text-align: right;\">\n",
       "      <th></th>\n",
       "      <th>nconst</th>\n",
       "      <th>primaryName</th>\n",
       "      <th>knownForTitles</th>\n",
       "    </tr>\n",
       "  </thead>\n",
       "  <tbody>\n",
       "    <tr>\n",
       "      <th>0</th>\n",
       "      <td>nm1774132</td>\n",
       "      <td>Nathan McLaughlin</td>\n",
       "      <td>tt0417686,tt1713976,tt1891860,tt0454839</td>\n",
       "    </tr>\n",
       "    <tr>\n",
       "      <th>1</th>\n",
       "      <td>nm10683464</td>\n",
       "      <td>Bridge Andrew</td>\n",
       "      <td>tt7718088</td>\n",
       "    </tr>\n",
       "    <tr>\n",
       "      <th>2</th>\n",
       "      <td>nm1021485</td>\n",
       "      <td>Brandon Fransvaag</td>\n",
       "      <td>tt0168790</td>\n",
       "    </tr>\n",
       "    <tr>\n",
       "      <th>3</th>\n",
       "      <td>nm6940929</td>\n",
       "      <td>Erwin van der Lely</td>\n",
       "      <td>tt4232168</td>\n",
       "    </tr>\n",
       "    <tr>\n",
       "      <th>4</th>\n",
       "      <td>nm5764974</td>\n",
       "      <td>Svetlana Shypitsyna</td>\n",
       "      <td>tt3014168</td>\n",
       "    </tr>\n",
       "  </tbody>\n",
       "</table>\n",
       "</div>"
      ],
      "text/plain": [
       "       nconst          primaryName                           knownForTitles\n",
       "0   nm1774132    Nathan McLaughlin  tt0417686,tt1713976,tt1891860,tt0454839\n",
       "1  nm10683464        Bridge Andrew                                tt7718088\n",
       "2   nm1021485    Brandon Fransvaag                                tt0168790\n",
       "3   nm6940929   Erwin van der Lely                                tt4232168\n",
       "4   nm5764974  Svetlana Shypitsyna                                tt3014168"
      ]
     },
     "execution_count": 158,
     "metadata": {},
     "output_type": "execute_result"
    }
   ],
   "source": [
    "name_df = name_df[['nconst','primaryName','knownForTitles']]\n",
    "name_df.head()"
   ]
  },
  {
   "cell_type": "code",
   "execution_count": 159,
   "metadata": {
    "ExecuteTime": {
     "end_time": "2020-05-11T03:50:48.222275Z",
     "start_time": "2020-05-11T03:50:48.216144Z"
    }
   },
   "outputs": [
    {
     "data": {
      "text/plain": [
       "array([4, 1, 2, 3])"
      ]
     },
     "execution_count": 159,
     "metadata": {},
     "output_type": "execute_result"
    }
   ],
   "source": [
    "name_df['knownForTitles'].apply(lambda x: len(x.split(','))).unique()"
   ]
  },
  {
   "cell_type": "markdown",
   "metadata": {},
   "source": [
    "masing-masing pemain dapat bermain di 1 sampai 4 film berdasarkan data di atas, maka akan diperlukan untuk membuat table mempunyai relasi 1-1 ke masing-masing title movie tersebut, kita akan melakukan unnest terhadap table tersebut.\n",
    "Pertama-tama kita membutuhkan kolom 'knownForTitles' menjadi list of list dahulu"
   ]
  },
  {
   "cell_type": "code",
   "execution_count": 160,
   "metadata": {
    "ExecuteTime": {
     "end_time": "2020-05-11T03:50:48.230492Z",
     "start_time": "2020-05-11T03:50:48.226001Z"
    }
   },
   "outputs": [],
   "source": [
    "name_df['knownForTitles'] = name_df['knownForTitles'].apply(lambda x: x.split(','))"
   ]
  },
  {
   "cell_type": "code",
   "execution_count": 161,
   "metadata": {
    "ExecuteTime": {
     "end_time": "2020-05-11T03:50:48.242613Z",
     "start_time": "2020-05-11T03:50:48.233129Z"
    }
   },
   "outputs": [
    {
     "data": {
      "text/html": [
       "<div>\n",
       "<style scoped>\n",
       "    .dataframe tbody tr th:only-of-type {\n",
       "        vertical-align: middle;\n",
       "    }\n",
       "\n",
       "    .dataframe tbody tr th {\n",
       "        vertical-align: top;\n",
       "    }\n",
       "\n",
       "    .dataframe thead th {\n",
       "        text-align: right;\n",
       "    }\n",
       "</style>\n",
       "<table border=\"1\" class=\"dataframe\">\n",
       "  <thead>\n",
       "    <tr style=\"text-align: right;\">\n",
       "      <th></th>\n",
       "      <th>nconst</th>\n",
       "      <th>primaryName</th>\n",
       "      <th>knownForTitles</th>\n",
       "    </tr>\n",
       "  </thead>\n",
       "  <tbody>\n",
       "    <tr>\n",
       "      <th>0</th>\n",
       "      <td>nm1774132</td>\n",
       "      <td>Nathan McLaughlin</td>\n",
       "      <td>[tt0417686, tt1713976, tt1891860, tt0454839]</td>\n",
       "    </tr>\n",
       "    <tr>\n",
       "      <th>1</th>\n",
       "      <td>nm10683464</td>\n",
       "      <td>Bridge Andrew</td>\n",
       "      <td>[tt7718088]</td>\n",
       "    </tr>\n",
       "    <tr>\n",
       "      <th>2</th>\n",
       "      <td>nm1021485</td>\n",
       "      <td>Brandon Fransvaag</td>\n",
       "      <td>[tt0168790]</td>\n",
       "    </tr>\n",
       "    <tr>\n",
       "      <th>3</th>\n",
       "      <td>nm6940929</td>\n",
       "      <td>Erwin van der Lely</td>\n",
       "      <td>[tt4232168]</td>\n",
       "    </tr>\n",
       "    <tr>\n",
       "      <th>4</th>\n",
       "      <td>nm5764974</td>\n",
       "      <td>Svetlana Shypitsyna</td>\n",
       "      <td>[tt3014168]</td>\n",
       "    </tr>\n",
       "  </tbody>\n",
       "</table>\n",
       "</div>"
      ],
      "text/plain": [
       "       nconst          primaryName  \\\n",
       "0   nm1774132    Nathan McLaughlin   \n",
       "1  nm10683464        Bridge Andrew   \n",
       "2   nm1021485    Brandon Fransvaag   \n",
       "3   nm6940929   Erwin van der Lely   \n",
       "4   nm5764974  Svetlana Shypitsyna   \n",
       "\n",
       "                                 knownForTitles  \n",
       "0  [tt0417686, tt1713976, tt1891860, tt0454839]  \n",
       "1                                   [tt7718088]  \n",
       "2                                   [tt0168790]  \n",
       "3                                   [tt4232168]  \n",
       "4                                   [tt3014168]  "
      ]
     },
     "execution_count": 161,
     "metadata": {},
     "output_type": "execute_result"
    }
   ],
   "source": [
    "name_df.head()"
   ]
  },
  {
   "cell_type": "code",
   "execution_count": 162,
   "metadata": {
    "ExecuteTime": {
     "end_time": "2020-05-11T03:50:48.272308Z",
     "start_time": "2020-05-11T03:50:48.245151Z"
    }
   },
   "outputs": [
    {
     "data": {
      "text/html": [
       "<div>\n",
       "<style scoped>\n",
       "    .dataframe tbody tr th:only-of-type {\n",
       "        vertical-align: middle;\n",
       "    }\n",
       "\n",
       "    .dataframe tbody tr th {\n",
       "        vertical-align: top;\n",
       "    }\n",
       "\n",
       "    .dataframe thead th {\n",
       "        text-align: right;\n",
       "    }\n",
       "</style>\n",
       "<table border=\"1\" class=\"dataframe\">\n",
       "  <thead>\n",
       "    <tr style=\"text-align: right;\">\n",
       "      <th></th>\n",
       "      <th>nconst</th>\n",
       "      <th>primaryName</th>\n",
       "      <th>knownForTitles</th>\n",
       "    </tr>\n",
       "  </thead>\n",
       "  <tbody>\n",
       "    <tr>\n",
       "      <th>0</th>\n",
       "      <td>nm1774132</td>\n",
       "      <td>Nathan McLaughlin</td>\n",
       "      <td>tt0417686</td>\n",
       "    </tr>\n",
       "    <tr>\n",
       "      <th>0</th>\n",
       "      <td>nm1774132</td>\n",
       "      <td>Nathan McLaughlin</td>\n",
       "      <td>tt1713976</td>\n",
       "    </tr>\n",
       "    <tr>\n",
       "      <th>0</th>\n",
       "      <td>nm1774132</td>\n",
       "      <td>Nathan McLaughlin</td>\n",
       "      <td>tt1891860</td>\n",
       "    </tr>\n",
       "    <tr>\n",
       "      <th>0</th>\n",
       "      <td>nm1774132</td>\n",
       "      <td>Nathan McLaughlin</td>\n",
       "      <td>tt0454839</td>\n",
       "    </tr>\n",
       "    <tr>\n",
       "      <th>1</th>\n",
       "      <td>nm10683464</td>\n",
       "      <td>Bridge Andrew</td>\n",
       "      <td>tt7718088</td>\n",
       "    </tr>\n",
       "    <tr>\n",
       "      <th>...</th>\n",
       "      <td>...</td>\n",
       "      <td>...</td>\n",
       "      <td>...</td>\n",
       "    </tr>\n",
       "    <tr>\n",
       "      <th>998</th>\n",
       "      <td>nm5245804</td>\n",
       "      <td>Eliza Jenkins</td>\n",
       "      <td>tt1464058</td>\n",
       "    </tr>\n",
       "    <tr>\n",
       "      <th>999</th>\n",
       "      <td>nm0948460</td>\n",
       "      <td>Greg Yolen</td>\n",
       "      <td>tt0436869</td>\n",
       "    </tr>\n",
       "    <tr>\n",
       "      <th>999</th>\n",
       "      <td>nm0948460</td>\n",
       "      <td>Greg Yolen</td>\n",
       "      <td>tt0476663</td>\n",
       "    </tr>\n",
       "    <tr>\n",
       "      <th>999</th>\n",
       "      <td>nm0948460</td>\n",
       "      <td>Greg Yolen</td>\n",
       "      <td>tt0109723</td>\n",
       "    </tr>\n",
       "    <tr>\n",
       "      <th>999</th>\n",
       "      <td>nm0948460</td>\n",
       "      <td>Greg Yolen</td>\n",
       "      <td>tt0364484</td>\n",
       "    </tr>\n",
       "  </tbody>\n",
       "</table>\n",
       "<p>1918 rows × 3 columns</p>\n",
       "</div>"
      ],
      "text/plain": [
       "         nconst        primaryName knownForTitles\n",
       "0     nm1774132  Nathan McLaughlin      tt0417686\n",
       "0     nm1774132  Nathan McLaughlin      tt1713976\n",
       "0     nm1774132  Nathan McLaughlin      tt1891860\n",
       "0     nm1774132  Nathan McLaughlin      tt0454839\n",
       "1    nm10683464      Bridge Andrew      tt7718088\n",
       "..          ...                ...            ...\n",
       "998   nm5245804      Eliza Jenkins      tt1464058\n",
       "999   nm0948460         Greg Yolen      tt0436869\n",
       "999   nm0948460         Greg Yolen      tt0476663\n",
       "999   nm0948460         Greg Yolen      tt0109723\n",
       "999   nm0948460         Greg Yolen      tt0364484\n",
       "\n",
       "[1918 rows x 3 columns]"
      ]
     },
     "execution_count": 162,
     "metadata": {},
     "output_type": "execute_result"
    }
   ],
   "source": [
    "#menyiapkan bucket untuk dataframe\n",
    "df_uni = []\n",
    "\n",
    "for x in ['knownForTitles']:\n",
    "    #mengulang index dari tiap baris sampai tiap elemen dari knownForTitles\n",
    "    idx = name_df.index.repeat(name_df['knownForTitles'].str.len())\n",
    "    #memecah values dari list di setiap baris dan menggabungkan nya dengan rows lain menjadi dataframe\n",
    "    df1 = pd.DataFrame({\n",
    "        x: np.concatenate(name_df[x].values)\n",
    "    })\n",
    "    #mengganti index dataframe tersebut dengan idx yang sudah kita define di awal\n",
    "    df1.index = idx\n",
    "    #untuk setiap dataframe yang terbentuk, kita menambahkan ke dataframe bucket\n",
    "    df_uni.append(df1)\n",
    "#menggabungkan semua dataframe menjadi satu\n",
    "df_concat = pd.concat(df_uni, axis=1)\n",
    "#join dengan value dari dataframe yang awal\n",
    "unnested_df = df_concat.join(name_df.drop(['knownForTitles'], 1), how='left')\n",
    "#select kolom sesuai dengan dataframe awal\n",
    "unnested_df = unnested_df[name_df.columns.tolist()]\n",
    "unnested_df"
   ]
  },
  {
   "cell_type": "markdown",
   "metadata": {},
   "source": [
    "sesuai yang kita inginkan, dataframe tersebut sudah di flatten dengan korespondensi value 1-1 untuk tiap baris nya, selanjutnya kita akan melakukan join antara value 'knownForTitles' dengan film nya"
   ]
  },
  {
   "cell_type": "markdown",
   "metadata": {},
   "source": [
    "### Task 3: Nesting again primaryName for each knownForTitles"
   ]
  },
  {
   "cell_type": "markdown",
   "metadata": {},
   "source": [
    "kita akan melakukan grouping kembali pada kolom player karena yang kita inginkan adalah level movie untuk melakukan movie recommendation"
   ]
  },
  {
   "cell_type": "code",
   "execution_count": 163,
   "metadata": {
    "ExecuteTime": {
     "end_time": "2020-05-11T03:50:48.278290Z",
     "start_time": "2020-05-11T03:50:48.274723Z"
    }
   },
   "outputs": [],
   "source": [
    "unnested_df = unnested_df.drop(['nconst'], axis=1)"
   ]
  },
  {
   "cell_type": "code",
   "execution_count": 287,
   "metadata": {
    "ExecuteTime": {
     "end_time": "2020-05-11T20:06:08.182379Z",
     "start_time": "2020-05-11T20:06:08.016960Z"
    }
   },
   "outputs": [
    {
     "data": {
      "text/html": [
       "<div>\n",
       "<style scoped>\n",
       "    .dataframe tbody tr th:only-of-type {\n",
       "        vertical-align: middle;\n",
       "    }\n",
       "\n",
       "    .dataframe tbody tr th {\n",
       "        vertical-align: top;\n",
       "    }\n",
       "\n",
       "    .dataframe thead th {\n",
       "        text-align: right;\n",
       "    }\n",
       "</style>\n",
       "<table border=\"1\" class=\"dataframe\">\n",
       "  <thead>\n",
       "    <tr style=\"text-align: right;\">\n",
       "      <th></th>\n",
       "      <th>knownForTitles</th>\n",
       "      <th>cast_name</th>\n",
       "    </tr>\n",
       "  </thead>\n",
       "  <tbody>\n",
       "    <tr>\n",
       "      <th>0</th>\n",
       "      <td>tt0008125</td>\n",
       "      <td>[Charles Harley]</td>\n",
       "    </tr>\n",
       "    <tr>\n",
       "      <th>1</th>\n",
       "      <td>tt0009706</td>\n",
       "      <td>[Charles Harley]</td>\n",
       "    </tr>\n",
       "    <tr>\n",
       "      <th>2</th>\n",
       "      <td>tt0010304</td>\n",
       "      <td>[Natalie Talmadge]</td>\n",
       "    </tr>\n",
       "    <tr>\n",
       "      <th>3</th>\n",
       "      <td>tt0011414</td>\n",
       "      <td>[Natalie Talmadge]</td>\n",
       "    </tr>\n",
       "    <tr>\n",
       "      <th>4</th>\n",
       "      <td>tt0011890</td>\n",
       "      <td>[Natalie Talmadge]</td>\n",
       "    </tr>\n",
       "    <tr>\n",
       "      <th>...</th>\n",
       "      <td>...</td>\n",
       "      <td>...</td>\n",
       "    </tr>\n",
       "    <tr>\n",
       "      <th>1893</th>\n",
       "      <td>tt9610496</td>\n",
       "      <td>[Stefano Baffetti]</td>\n",
       "    </tr>\n",
       "    <tr>\n",
       "      <th>1894</th>\n",
       "      <td>tt9714030</td>\n",
       "      <td>[Kevin Kain]</td>\n",
       "    </tr>\n",
       "    <tr>\n",
       "      <th>1895</th>\n",
       "      <td>tt9741820</td>\n",
       "      <td>[Caroline Plyler]</td>\n",
       "    </tr>\n",
       "    <tr>\n",
       "      <th>1896</th>\n",
       "      <td>tt9759814</td>\n",
       "      <td>[Ethan Francis]</td>\n",
       "    </tr>\n",
       "    <tr>\n",
       "      <th>1897</th>\n",
       "      <td>tt9856236</td>\n",
       "      <td>[Nuala Maguire]</td>\n",
       "    </tr>\n",
       "  </tbody>\n",
       "</table>\n",
       "<p>1898 rows × 2 columns</p>\n",
       "</div>"
      ],
      "text/plain": [
       "     knownForTitles           cast_name\n",
       "0         tt0008125    [Charles Harley]\n",
       "1         tt0009706    [Charles Harley]\n",
       "2         tt0010304  [Natalie Talmadge]\n",
       "3         tt0011414  [Natalie Talmadge]\n",
       "4         tt0011890  [Natalie Talmadge]\n",
       "...             ...                 ...\n",
       "1893      tt9610496  [Stefano Baffetti]\n",
       "1894      tt9714030        [Kevin Kain]\n",
       "1895      tt9741820   [Caroline Plyler]\n",
       "1896      tt9759814     [Ethan Francis]\n",
       "1897      tt9856236     [Nuala Maguire]\n",
       "\n",
       "[1898 rows x 2 columns]"
      ]
     },
     "execution_count": 287,
     "metadata": {},
     "output_type": "execute_result"
    }
   ],
   "source": [
    "#menyiapkan bucket untuk dataframe\n",
    "df_uni = []\n",
    "\n",
    "for col in ['primaryName']:\n",
    "    #agregasi kolom PrimaryName sesuai group_col yang kita define di atas\n",
    "    dfi = unnested_df.groupby(['knownForTitles'])[col].apply(list)\n",
    "    df_uni.append(dfi)\n",
    "df_grouped = pd.concat(df_uni, axis=1).reset_index()\n",
    "df_grouped.columns = ['knownForTitles','cast_name']\n",
    "df_grouped"
   ]
  },
  {
   "cell_type": "markdown",
   "metadata": {},
   "source": [
    "### Task 4: Joining with Movie Table"
   ]
  },
  {
   "cell_type": "code",
   "execution_count": 298,
   "metadata": {
    "ExecuteTime": {
     "end_time": "2020-05-11T20:09:04.919178Z",
     "start_time": "2020-05-11T20:09:04.627249Z"
    }
   },
   "outputs": [
    {
     "data": {
      "text/html": [
       "<div>\n",
       "<style scoped>\n",
       "    .dataframe tbody tr th:only-of-type {\n",
       "        vertical-align: middle;\n",
       "    }\n",
       "\n",
       "    .dataframe tbody tr th {\n",
       "        vertical-align: top;\n",
       "    }\n",
       "\n",
       "    .dataframe thead th {\n",
       "        text-align: right;\n",
       "    }\n",
       "</style>\n",
       "<table border=\"1\" class=\"dataframe\">\n",
       "  <thead>\n",
       "    <tr style=\"text-align: right;\">\n",
       "      <th></th>\n",
       "      <th>knownForTitles</th>\n",
       "      <th>cast_name</th>\n",
       "      <th>tconst</th>\n",
       "      <th>titleType</th>\n",
       "      <th>primaryTitle</th>\n",
       "      <th>originalTitle</th>\n",
       "      <th>isAdult</th>\n",
       "      <th>startYear</th>\n",
       "      <th>endYear</th>\n",
       "      <th>runtimeMinutes</th>\n",
       "      <th>genres</th>\n",
       "      <th>averageRating</th>\n",
       "      <th>numVotes</th>\n",
       "      <th>director_name</th>\n",
       "      <th>writer_name</th>\n",
       "    </tr>\n",
       "  </thead>\n",
       "  <tbody>\n",
       "    <tr>\n",
       "      <th>0</th>\n",
       "      <td>tt0011414</td>\n",
       "      <td>[Natalie Talmadge]</td>\n",
       "      <td>tt0011414</td>\n",
       "      <td>movie</td>\n",
       "      <td>The Love Expert</td>\n",
       "      <td>The Love Expert</td>\n",
       "      <td>0</td>\n",
       "      <td>1920.0</td>\n",
       "      <td>NaN</td>\n",
       "      <td>60.0</td>\n",
       "      <td>Comedy,Romance</td>\n",
       "      <td>4.9</td>\n",
       "      <td>136</td>\n",
       "      <td>[David Kirkland]</td>\n",
       "      <td>[John Emerson, Anita Loos]</td>\n",
       "    </tr>\n",
       "    <tr>\n",
       "      <th>1</th>\n",
       "      <td>tt0011890</td>\n",
       "      <td>[Natalie Talmadge]</td>\n",
       "      <td>tt0011890</td>\n",
       "      <td>movie</td>\n",
       "      <td>Yes or No</td>\n",
       "      <td>Yes or No</td>\n",
       "      <td>0</td>\n",
       "      <td>1920.0</td>\n",
       "      <td>NaN</td>\n",
       "      <td>72.0</td>\n",
       "      <td>NaN</td>\n",
       "      <td>6.3</td>\n",
       "      <td>7</td>\n",
       "      <td>[Roy William Neill]</td>\n",
       "      <td>[Arthur F. Goodrich, Burns Mantle, Mary Murillo]</td>\n",
       "    </tr>\n",
       "    <tr>\n",
       "      <th>2</th>\n",
       "      <td>tt0014341</td>\n",
       "      <td>[Natalie Talmadge]</td>\n",
       "      <td>tt0014341</td>\n",
       "      <td>movie</td>\n",
       "      <td>Our Hospitality</td>\n",
       "      <td>Our Hospitality</td>\n",
       "      <td>0</td>\n",
       "      <td>1923.0</td>\n",
       "      <td>NaN</td>\n",
       "      <td>65.0</td>\n",
       "      <td>Comedy,Romance,Thriller</td>\n",
       "      <td>7.8</td>\n",
       "      <td>9621</td>\n",
       "      <td>[Buster Keaton, John G. Blystone]</td>\n",
       "      <td>[Jean C. Havez, Clyde Bruckman, Joseph A. Mitc...</td>\n",
       "    </tr>\n",
       "    <tr>\n",
       "      <th>3</th>\n",
       "      <td>tt0018054</td>\n",
       "      <td>[Reeka Roberts]</td>\n",
       "      <td>tt0018054</td>\n",
       "      <td>movie</td>\n",
       "      <td>The King of Kings</td>\n",
       "      <td>The King of Kings</td>\n",
       "      <td>0</td>\n",
       "      <td>1927.0</td>\n",
       "      <td>NaN</td>\n",
       "      <td>155.0</td>\n",
       "      <td>Biography,Drama,History</td>\n",
       "      <td>7.3</td>\n",
       "      <td>1826</td>\n",
       "      <td>[Cecil B. DeMille]</td>\n",
       "      <td>[Jeanie Macpherson]</td>\n",
       "    </tr>\n",
       "    <tr>\n",
       "      <th>4</th>\n",
       "      <td>tt0024151</td>\n",
       "      <td>[James Hackett]</td>\n",
       "      <td>tt0024151</td>\n",
       "      <td>movie</td>\n",
       "      <td>I Cover the Waterfront</td>\n",
       "      <td>I Cover the Waterfront</td>\n",
       "      <td>0</td>\n",
       "      <td>1933.0</td>\n",
       "      <td>NaN</td>\n",
       "      <td>80.0</td>\n",
       "      <td>Drama,Romance</td>\n",
       "      <td>6.3</td>\n",
       "      <td>455</td>\n",
       "      <td>[James Cruze]</td>\n",
       "      <td>[Max Miller, Wells Root, Jack Jevne]</td>\n",
       "    </tr>\n",
       "  </tbody>\n",
       "</table>\n",
       "</div>"
      ],
      "text/plain": [
       "  knownForTitles           cast_name     tconst titleType  \\\n",
       "0      tt0011414  [Natalie Talmadge]  tt0011414     movie   \n",
       "1      tt0011890  [Natalie Talmadge]  tt0011890     movie   \n",
       "2      tt0014341  [Natalie Talmadge]  tt0014341     movie   \n",
       "3      tt0018054     [Reeka Roberts]  tt0018054     movie   \n",
       "4      tt0024151     [James Hackett]  tt0024151     movie   \n",
       "\n",
       "             primaryTitle           originalTitle  isAdult  startYear  \\\n",
       "0         The Love Expert         The Love Expert        0     1920.0   \n",
       "1               Yes or No               Yes or No        0     1920.0   \n",
       "2         Our Hospitality         Our Hospitality        0     1923.0   \n",
       "3       The King of Kings       The King of Kings        0     1927.0   \n",
       "4  I Cover the Waterfront  I Cover the Waterfront        0     1933.0   \n",
       "\n",
       "   endYear  runtimeMinutes                   genres  averageRating  numVotes  \\\n",
       "0      NaN            60.0           Comedy,Romance            4.9       136   \n",
       "1      NaN            72.0                      NaN            6.3         7   \n",
       "2      NaN            65.0  Comedy,Romance,Thriller            7.8      9621   \n",
       "3      NaN           155.0  Biography,Drama,History            7.3      1826   \n",
       "4      NaN            80.0            Drama,Romance            6.3       455   \n",
       "\n",
       "                       director_name  \\\n",
       "0                   [David Kirkland]   \n",
       "1                [Roy William Neill]   \n",
       "2  [Buster Keaton, John G. Blystone]   \n",
       "3                 [Cecil B. DeMille]   \n",
       "4                      [James Cruze]   \n",
       "\n",
       "                                         writer_name  \n",
       "0                         [John Emerson, Anita Loos]  \n",
       "1   [Arthur F. Goodrich, Burns Mantle, Mary Murillo]  \n",
       "2  [Jean C. Havez, Clyde Bruckman, Joseph A. Mitc...  \n",
       "3                                [Jeanie Macpherson]  \n",
       "4               [Max Miller, Wells Root, Jack Jevne]  "
      ]
     },
     "execution_count": 298,
     "metadata": {},
     "output_type": "execute_result"
    }
   ],
   "source": [
    "#join antara movie table dan cast table\n",
    "base_df = pd.merge(df_grouped, movie_rating_df, left_on='knownForTitles', right_on='tconst', how='inner')\n",
    "\n",
    "#join antara base_df dengan director_writer table\n",
    "base_df = pd.merge(base_df, director_writers, left_on='tconst', right_on='tconst', how='left')\n",
    "base_df.head()"
   ]
  },
  {
   "cell_type": "code",
   "execution_count": 299,
   "metadata": {
    "ExecuteTime": {
     "end_time": "2020-05-11T20:09:05.761341Z",
     "start_time": "2020-05-11T20:09:05.754565Z"
    }
   },
   "outputs": [],
   "source": [
    "base_df = base_df.drop(['knownForTitles'], axis=1)"
   ]
  },
  {
   "cell_type": "code",
   "execution_count": 300,
   "metadata": {
    "ExecuteTime": {
     "end_time": "2020-05-11T20:09:06.076892Z",
     "start_time": "2020-05-11T20:09:06.069038Z"
    }
   },
   "outputs": [
    {
     "name": "stdout",
     "output_type": "stream",
     "text": [
      "<class 'pandas.core.frame.DataFrame'>\n",
      "Int64Index: 1060 entries, 0 to 1059\n",
      "Data columns (total 14 columns):\n",
      "cast_name         1060 non-null object\n",
      "tconst            1060 non-null object\n",
      "titleType         1060 non-null object\n",
      "primaryTitle      1060 non-null object\n",
      "originalTitle     1060 non-null object\n",
      "isAdult           1060 non-null int64\n",
      "startYear         1060 non-null float64\n",
      "endYear           110 non-null float64\n",
      "runtimeMinutes    1060 non-null float64\n",
      "genres            745 non-null object\n",
      "averageRating     1060 non-null float64\n",
      "numVotes          1060 non-null int64\n",
      "director_name     986 non-null object\n",
      "writer_name       986 non-null object\n",
      "dtypes: float64(4), int64(2), object(8)\n",
      "memory usage: 124.2+ KB\n"
     ]
    }
   ],
   "source": [
    "base_df.info()"
   ]
  },
  {
   "cell_type": "markdown",
   "metadata": {},
   "source": [
    "masih terdapat nilai yang kosong pada kolom genres, kita akan menggantinya dengan 'Unknown'"
   ]
  },
  {
   "cell_type": "code",
   "execution_count": 301,
   "metadata": {
    "ExecuteTime": {
     "end_time": "2020-05-11T20:09:08.022713Z",
     "start_time": "2020-05-11T20:09:08.019379Z"
    }
   },
   "outputs": [],
   "source": [
    "base_df['genres'] = base_df['genres'].fillna('Unknown')"
   ]
  },
  {
   "cell_type": "code",
   "execution_count": 302,
   "metadata": {
    "ExecuteTime": {
     "end_time": "2020-05-11T20:09:09.158861Z",
     "start_time": "2020-05-11T20:09:09.152880Z"
    }
   },
   "outputs": [
    {
     "data": {
      "text/plain": [
       "cast_name           0\n",
       "tconst              0\n",
       "titleType           0\n",
       "primaryTitle        0\n",
       "originalTitle       0\n",
       "isAdult             0\n",
       "startYear           0\n",
       "endYear           950\n",
       "runtimeMinutes      0\n",
       "genres              0\n",
       "averageRating       0\n",
       "numVotes            0\n",
       "director_name      74\n",
       "writer_name        74\n",
       "dtype: int64"
      ]
     },
     "execution_count": 302,
     "metadata": {},
     "output_type": "execute_result"
    }
   ],
   "source": [
    "base_df.isnull().sum()"
   ]
  },
  {
   "cell_type": "code",
   "execution_count": 303,
   "metadata": {
    "ExecuteTime": {
     "end_time": "2020-05-11T20:09:17.374415Z",
     "start_time": "2020-05-11T20:09:17.369309Z"
    }
   },
   "outputs": [],
   "source": [
    "base_df[['director_name','writer_name']] = base_df[['director_name','writer_name']].fillna('unknown')"
   ]
  },
  {
   "cell_type": "markdown",
   "metadata": {},
   "source": [
    "karena value kolom genres terdapat multiple values, jadi kita akan bungkus menjadi list of list"
   ]
  },
  {
   "cell_type": "code",
   "execution_count": 304,
   "metadata": {
    "ExecuteTime": {
     "end_time": "2020-05-11T20:09:19.172621Z",
     "start_time": "2020-05-11T20:09:19.152009Z"
    },
    "scrolled": true
   },
   "outputs": [
    {
     "data": {
      "text/html": [
       "<div>\n",
       "<style scoped>\n",
       "    .dataframe tbody tr th:only-of-type {\n",
       "        vertical-align: middle;\n",
       "    }\n",
       "\n",
       "    .dataframe tbody tr th {\n",
       "        vertical-align: top;\n",
       "    }\n",
       "\n",
       "    .dataframe thead th {\n",
       "        text-align: right;\n",
       "    }\n",
       "</style>\n",
       "<table border=\"1\" class=\"dataframe\">\n",
       "  <thead>\n",
       "    <tr style=\"text-align: right;\">\n",
       "      <th></th>\n",
       "      <th>cast_name</th>\n",
       "      <th>tconst</th>\n",
       "      <th>titleType</th>\n",
       "      <th>primaryTitle</th>\n",
       "      <th>originalTitle</th>\n",
       "      <th>isAdult</th>\n",
       "      <th>startYear</th>\n",
       "      <th>endYear</th>\n",
       "      <th>runtimeMinutes</th>\n",
       "      <th>genres</th>\n",
       "      <th>averageRating</th>\n",
       "      <th>numVotes</th>\n",
       "      <th>director_name</th>\n",
       "      <th>writer_name</th>\n",
       "    </tr>\n",
       "  </thead>\n",
       "  <tbody>\n",
       "    <tr>\n",
       "      <th>0</th>\n",
       "      <td>[Natalie Talmadge]</td>\n",
       "      <td>tt0011414</td>\n",
       "      <td>movie</td>\n",
       "      <td>The Love Expert</td>\n",
       "      <td>The Love Expert</td>\n",
       "      <td>0</td>\n",
       "      <td>1920.0</td>\n",
       "      <td>NaN</td>\n",
       "      <td>60.0</td>\n",
       "      <td>[Comedy, Romance]</td>\n",
       "      <td>4.9</td>\n",
       "      <td>136</td>\n",
       "      <td>[David Kirkland]</td>\n",
       "      <td>[John Emerson, Anita Loos]</td>\n",
       "    </tr>\n",
       "    <tr>\n",
       "      <th>1</th>\n",
       "      <td>[Natalie Talmadge]</td>\n",
       "      <td>tt0011890</td>\n",
       "      <td>movie</td>\n",
       "      <td>Yes or No</td>\n",
       "      <td>Yes or No</td>\n",
       "      <td>0</td>\n",
       "      <td>1920.0</td>\n",
       "      <td>NaN</td>\n",
       "      <td>72.0</td>\n",
       "      <td>[Unknown]</td>\n",
       "      <td>6.3</td>\n",
       "      <td>7</td>\n",
       "      <td>[Roy William Neill]</td>\n",
       "      <td>[Arthur F. Goodrich, Burns Mantle, Mary Murillo]</td>\n",
       "    </tr>\n",
       "    <tr>\n",
       "      <th>2</th>\n",
       "      <td>[Natalie Talmadge]</td>\n",
       "      <td>tt0014341</td>\n",
       "      <td>movie</td>\n",
       "      <td>Our Hospitality</td>\n",
       "      <td>Our Hospitality</td>\n",
       "      <td>0</td>\n",
       "      <td>1923.0</td>\n",
       "      <td>NaN</td>\n",
       "      <td>65.0</td>\n",
       "      <td>[Comedy, Romance, Thriller]</td>\n",
       "      <td>7.8</td>\n",
       "      <td>9621</td>\n",
       "      <td>[Buster Keaton, John G. Blystone]</td>\n",
       "      <td>[Jean C. Havez, Clyde Bruckman, Joseph A. Mitc...</td>\n",
       "    </tr>\n",
       "    <tr>\n",
       "      <th>3</th>\n",
       "      <td>[Reeka Roberts]</td>\n",
       "      <td>tt0018054</td>\n",
       "      <td>movie</td>\n",
       "      <td>The King of Kings</td>\n",
       "      <td>The King of Kings</td>\n",
       "      <td>0</td>\n",
       "      <td>1927.0</td>\n",
       "      <td>NaN</td>\n",
       "      <td>155.0</td>\n",
       "      <td>[Biography, Drama, History]</td>\n",
       "      <td>7.3</td>\n",
       "      <td>1826</td>\n",
       "      <td>[Cecil B. DeMille]</td>\n",
       "      <td>[Jeanie Macpherson]</td>\n",
       "    </tr>\n",
       "    <tr>\n",
       "      <th>4</th>\n",
       "      <td>[James Hackett]</td>\n",
       "      <td>tt0024151</td>\n",
       "      <td>movie</td>\n",
       "      <td>I Cover the Waterfront</td>\n",
       "      <td>I Cover the Waterfront</td>\n",
       "      <td>0</td>\n",
       "      <td>1933.0</td>\n",
       "      <td>NaN</td>\n",
       "      <td>80.0</td>\n",
       "      <td>[Drama, Romance]</td>\n",
       "      <td>6.3</td>\n",
       "      <td>455</td>\n",
       "      <td>[James Cruze]</td>\n",
       "      <td>[Max Miller, Wells Root, Jack Jevne]</td>\n",
       "    </tr>\n",
       "  </tbody>\n",
       "</table>\n",
       "</div>"
      ],
      "text/plain": [
       "            cast_name     tconst titleType            primaryTitle  \\\n",
       "0  [Natalie Talmadge]  tt0011414     movie         The Love Expert   \n",
       "1  [Natalie Talmadge]  tt0011890     movie               Yes or No   \n",
       "2  [Natalie Talmadge]  tt0014341     movie         Our Hospitality   \n",
       "3     [Reeka Roberts]  tt0018054     movie       The King of Kings   \n",
       "4     [James Hackett]  tt0024151     movie  I Cover the Waterfront   \n",
       "\n",
       "            originalTitle  isAdult  startYear  endYear  runtimeMinutes  \\\n",
       "0         The Love Expert        0     1920.0      NaN            60.0   \n",
       "1               Yes or No        0     1920.0      NaN            72.0   \n",
       "2         Our Hospitality        0     1923.0      NaN            65.0   \n",
       "3       The King of Kings        0     1927.0      NaN           155.0   \n",
       "4  I Cover the Waterfront        0     1933.0      NaN            80.0   \n",
       "\n",
       "                        genres  averageRating  numVotes  \\\n",
       "0            [Comedy, Romance]            4.9       136   \n",
       "1                    [Unknown]            6.3         7   \n",
       "2  [Comedy, Romance, Thriller]            7.8      9621   \n",
       "3  [Biography, Drama, History]            7.3      1826   \n",
       "4             [Drama, Romance]            6.3       455   \n",
       "\n",
       "                       director_name  \\\n",
       "0                   [David Kirkland]   \n",
       "1                [Roy William Neill]   \n",
       "2  [Buster Keaton, John G. Blystone]   \n",
       "3                 [Cecil B. DeMille]   \n",
       "4                      [James Cruze]   \n",
       "\n",
       "                                         writer_name  \n",
       "0                         [John Emerson, Anita Loos]  \n",
       "1   [Arthur F. Goodrich, Burns Mantle, Mary Murillo]  \n",
       "2  [Jean C. Havez, Clyde Bruckman, Joseph A. Mitc...  \n",
       "3                                [Jeanie Macpherson]  \n",
       "4               [Max Miller, Wells Root, Jack Jevne]  "
      ]
     },
     "execution_count": 304,
     "metadata": {},
     "output_type": "execute_result"
    }
   ],
   "source": [
    "base_df['genres'] = base_df['genres'].apply(lambda x: x.split(','))\n",
    "base_df.head()"
   ]
  },
  {
   "cell_type": "markdown",
   "metadata": {},
   "source": [
    "reformat bentuk table base_df"
   ]
  },
  {
   "cell_type": "code",
   "execution_count": 344,
   "metadata": {
    "ExecuteTime": {
     "end_time": "2020-05-11T23:13:20.914946Z",
     "start_time": "2020-05-11T23:13:20.888808Z"
    }
   },
   "outputs": [
    {
     "data": {
      "text/html": [
       "<div>\n",
       "<style scoped>\n",
       "    .dataframe tbody tr th:only-of-type {\n",
       "        vertical-align: middle;\n",
       "    }\n",
       "\n",
       "    .dataframe tbody tr th {\n",
       "        vertical-align: top;\n",
       "    }\n",
       "\n",
       "    .dataframe thead th {\n",
       "        text-align: right;\n",
       "    }\n",
       "</style>\n",
       "<table border=\"1\" class=\"dataframe\">\n",
       "  <thead>\n",
       "    <tr style=\"text-align: right;\">\n",
       "      <th></th>\n",
       "      <th>title</th>\n",
       "      <th>type</th>\n",
       "      <th>start</th>\n",
       "      <th>duration</th>\n",
       "      <th>genres</th>\n",
       "      <th>rating</th>\n",
       "      <th>votes</th>\n",
       "      <th>cast_name</th>\n",
       "      <th>director_name</th>\n",
       "      <th>writer_name</th>\n",
       "    </tr>\n",
       "  </thead>\n",
       "  <tbody>\n",
       "    <tr>\n",
       "      <th>0</th>\n",
       "      <td>The Love Expert</td>\n",
       "      <td>movie</td>\n",
       "      <td>1920.0</td>\n",
       "      <td>60.0</td>\n",
       "      <td>[Comedy, Romance]</td>\n",
       "      <td>4.9</td>\n",
       "      <td>136</td>\n",
       "      <td>[Natalie Talmadge]</td>\n",
       "      <td>[David Kirkland]</td>\n",
       "      <td>[John Emerson, Anita Loos]</td>\n",
       "    </tr>\n",
       "    <tr>\n",
       "      <th>1</th>\n",
       "      <td>Yes or No</td>\n",
       "      <td>movie</td>\n",
       "      <td>1920.0</td>\n",
       "      <td>72.0</td>\n",
       "      <td>[Unknown]</td>\n",
       "      <td>6.3</td>\n",
       "      <td>7</td>\n",
       "      <td>[Natalie Talmadge]</td>\n",
       "      <td>[Roy William Neill]</td>\n",
       "      <td>[Arthur F. Goodrich, Burns Mantle, Mary Murillo]</td>\n",
       "    </tr>\n",
       "    <tr>\n",
       "      <th>2</th>\n",
       "      <td>Our Hospitality</td>\n",
       "      <td>movie</td>\n",
       "      <td>1923.0</td>\n",
       "      <td>65.0</td>\n",
       "      <td>[Comedy, Romance, Thriller]</td>\n",
       "      <td>7.8</td>\n",
       "      <td>9621</td>\n",
       "      <td>[Natalie Talmadge]</td>\n",
       "      <td>[Buster Keaton, John G. Blystone]</td>\n",
       "      <td>[Jean C. Havez, Clyde Bruckman, Joseph A. Mitc...</td>\n",
       "    </tr>\n",
       "    <tr>\n",
       "      <th>3</th>\n",
       "      <td>The King of Kings</td>\n",
       "      <td>movie</td>\n",
       "      <td>1927.0</td>\n",
       "      <td>155.0</td>\n",
       "      <td>[Biography, Drama, History]</td>\n",
       "      <td>7.3</td>\n",
       "      <td>1826</td>\n",
       "      <td>[Reeka Roberts]</td>\n",
       "      <td>[Cecil B. DeMille]</td>\n",
       "      <td>[Jeanie Macpherson]</td>\n",
       "    </tr>\n",
       "    <tr>\n",
       "      <th>4</th>\n",
       "      <td>I Cover the Waterfront</td>\n",
       "      <td>movie</td>\n",
       "      <td>1933.0</td>\n",
       "      <td>80.0</td>\n",
       "      <td>[Drama, Romance]</td>\n",
       "      <td>6.3</td>\n",
       "      <td>455</td>\n",
       "      <td>[James Hackett]</td>\n",
       "      <td>[James Cruze]</td>\n",
       "      <td>[Max Miller, Wells Root, Jack Jevne]</td>\n",
       "    </tr>\n",
       "  </tbody>\n",
       "</table>\n",
       "</div>"
      ],
      "text/plain": [
       "                    title   type   start  duration  \\\n",
       "0         The Love Expert  movie  1920.0      60.0   \n",
       "1               Yes or No  movie  1920.0      72.0   \n",
       "2         Our Hospitality  movie  1923.0      65.0   \n",
       "3       The King of Kings  movie  1927.0     155.0   \n",
       "4  I Cover the Waterfront  movie  1933.0      80.0   \n",
       "\n",
       "                        genres  rating  votes           cast_name  \\\n",
       "0            [Comedy, Romance]     4.9    136  [Natalie Talmadge]   \n",
       "1                    [Unknown]     6.3      7  [Natalie Talmadge]   \n",
       "2  [Comedy, Romance, Thriller]     7.8   9621  [Natalie Talmadge]   \n",
       "3  [Biography, Drama, History]     7.3   1826     [Reeka Roberts]   \n",
       "4             [Drama, Romance]     6.3    455     [James Hackett]   \n",
       "\n",
       "                       director_name  \\\n",
       "0                   [David Kirkland]   \n",
       "1                [Roy William Neill]   \n",
       "2  [Buster Keaton, John G. Blystone]   \n",
       "3                 [Cecil B. DeMille]   \n",
       "4                      [James Cruze]   \n",
       "\n",
       "                                         writer_name  \n",
       "0                         [John Emerson, Anita Loos]  \n",
       "1   [Arthur F. Goodrich, Burns Mantle, Mary Murillo]  \n",
       "2  [Jean C. Havez, Clyde Bruckman, Joseph A. Mitc...  \n",
       "3                                [Jeanie Macpherson]  \n",
       "4               [Max Miller, Wells Root, Jack Jevne]  "
      ]
     },
     "execution_count": 344,
     "metadata": {},
     "output_type": "execute_result"
    }
   ],
   "source": [
    "base_df = base_df.drop(['tconst','isAdult','endYear','originalTitle'], axis=1)\n",
    "base_df = base_df[['primaryTitle','titleType','startYear','runtimeMinutes','genres','averageRating','numVotes','cast_name','director_name','writer_name']]\n",
    "base_df.columns = ['title','type','start','duration','genres','rating','votes','cast_name','director_name','writer_name']\n",
    "base_df.head()"
   ]
  },
  {
   "cell_type": "code",
   "execution_count": 305,
   "metadata": {
    "ExecuteTime": {
     "end_time": "2020-05-11T20:09:27.965317Z",
     "start_time": "2020-05-11T20:09:27.960286Z"
    }
   },
   "outputs": [
    {
     "data": {
      "text/plain": [
       "array([2, 1, 3])"
      ]
     },
     "execution_count": 305,
     "metadata": {},
     "output_type": "execute_result"
    }
   ],
   "source": [
    "base_df['genres'].apply(lambda x: len(x)).unique()"
   ]
  },
  {
   "cell_type": "markdown",
   "metadata": {},
   "source": [
    "total kita memiliki 1060 judul movie yang akan masuk recommender system sebagai input"
   ]
  },
  {
   "cell_type": "markdown",
   "metadata": {},
   "source": [
    "### Task 5: Creating Content based Recommender System"
   ]
  },
  {
   "cell_type": "markdown",
   "metadata": {},
   "source": [
    "kita akan klasifikasikan berdasarkan metadata genres, primaryName (cast name), director name, dan writer_name"
   ]
  },
  {
   "cell_type": "code",
   "execution_count": 345,
   "metadata": {
    "ExecuteTime": {
     "end_time": "2020-05-11T23:13:52.841898Z",
     "start_time": "2020-05-11T23:13:52.827296Z"
    }
   },
   "outputs": [
    {
     "data": {
      "text/html": [
       "<div>\n",
       "<style scoped>\n",
       "    .dataframe tbody tr th:only-of-type {\n",
       "        vertical-align: middle;\n",
       "    }\n",
       "\n",
       "    .dataframe tbody tr th {\n",
       "        vertical-align: top;\n",
       "    }\n",
       "\n",
       "    .dataframe thead th {\n",
       "        text-align: right;\n",
       "    }\n",
       "</style>\n",
       "<table border=\"1\" class=\"dataframe\">\n",
       "  <thead>\n",
       "    <tr style=\"text-align: right;\">\n",
       "      <th></th>\n",
       "      <th>title</th>\n",
       "      <th>cast_name</th>\n",
       "      <th>genres</th>\n",
       "      <th>director_name</th>\n",
       "      <th>writer_name</th>\n",
       "    </tr>\n",
       "  </thead>\n",
       "  <tbody>\n",
       "    <tr>\n",
       "      <th>0</th>\n",
       "      <td>The Love Expert</td>\n",
       "      <td>[Natalie Talmadge]</td>\n",
       "      <td>[Comedy, Romance]</td>\n",
       "      <td>[David Kirkland]</td>\n",
       "      <td>[John Emerson, Anita Loos]</td>\n",
       "    </tr>\n",
       "    <tr>\n",
       "      <th>1</th>\n",
       "      <td>Yes or No</td>\n",
       "      <td>[Natalie Talmadge]</td>\n",
       "      <td>[Unknown]</td>\n",
       "      <td>[Roy William Neill]</td>\n",
       "      <td>[Arthur F. Goodrich, Burns Mantle, Mary Murillo]</td>\n",
       "    </tr>\n",
       "    <tr>\n",
       "      <th>2</th>\n",
       "      <td>Our Hospitality</td>\n",
       "      <td>[Natalie Talmadge]</td>\n",
       "      <td>[Comedy, Romance, Thriller]</td>\n",
       "      <td>[Buster Keaton, John G. Blystone]</td>\n",
       "      <td>[Jean C. Havez, Clyde Bruckman, Joseph A. Mitc...</td>\n",
       "    </tr>\n",
       "    <tr>\n",
       "      <th>3</th>\n",
       "      <td>The King of Kings</td>\n",
       "      <td>[Reeka Roberts]</td>\n",
       "      <td>[Biography, Drama, History]</td>\n",
       "      <td>[Cecil B. DeMille]</td>\n",
       "      <td>[Jeanie Macpherson]</td>\n",
       "    </tr>\n",
       "    <tr>\n",
       "      <th>4</th>\n",
       "      <td>I Cover the Waterfront</td>\n",
       "      <td>[James Hackett]</td>\n",
       "      <td>[Drama, Romance]</td>\n",
       "      <td>[James Cruze]</td>\n",
       "      <td>[Max Miller, Wells Root, Jack Jevne]</td>\n",
       "    </tr>\n",
       "  </tbody>\n",
       "</table>\n",
       "</div>"
      ],
      "text/plain": [
       "                    title           cast_name                       genres  \\\n",
       "0         The Love Expert  [Natalie Talmadge]            [Comedy, Romance]   \n",
       "1               Yes or No  [Natalie Talmadge]                    [Unknown]   \n",
       "2         Our Hospitality  [Natalie Talmadge]  [Comedy, Romance, Thriller]   \n",
       "3       The King of Kings     [Reeka Roberts]  [Biography, Drama, History]   \n",
       "4  I Cover the Waterfront     [James Hackett]             [Drama, Romance]   \n",
       "\n",
       "                       director_name  \\\n",
       "0                   [David Kirkland]   \n",
       "1                [Roy William Neill]   \n",
       "2  [Buster Keaton, John G. Blystone]   \n",
       "3                 [Cecil B. DeMille]   \n",
       "4                      [James Cruze]   \n",
       "\n",
       "                                         writer_name  \n",
       "0                         [John Emerson, Anita Loos]  \n",
       "1   [Arthur F. Goodrich, Burns Mantle, Mary Murillo]  \n",
       "2  [Jean C. Havez, Clyde Bruckman, Joseph A. Mitc...  \n",
       "3                                [Jeanie Macpherson]  \n",
       "4               [Max Miller, Wells Root, Jack Jevne]  "
      ]
     },
     "execution_count": 345,
     "metadata": {},
     "output_type": "execute_result"
    }
   ],
   "source": [
    "feature_df = base_df[['title','cast_name','genres','director_name','writer_name']]\n",
    "feature_df.head()"
   ]
  },
  {
   "cell_type": "markdown",
   "metadata": {},
   "source": [
    "pada bagian ini kita akan menunjukkan vector dari metadata untuk setiap judul yang ada, ketika kita memiliki kedua actor 'Ryan Gosling' dan 'Ryan Reynolds' vector akan menunjukkan kalau kedua actor tersebut adalah orang yang sama karena penulisan nama depannya sama persis.\n",
    "Sehingga kita perlu untuk menghapus adanya spasi di antara words dan menggabungkan menjadi 1 entitas, contohnya 'ryangosling' dan 'ryanreynolds', ini akan membedakan kedua orang tersebut."
   ]
  },
  {
   "cell_type": "markdown",
   "metadata": {},
   "source": [
    "#### Pertanyaan 1: Bagaimana cara membuat fungsi untuk strip spaces dari setiap row dan setiap elemennya?"
   ]
  },
  {
   "cell_type": "code",
   "execution_count": 346,
   "metadata": {
    "ExecuteTime": {
     "end_time": "2020-05-11T23:14:05.401346Z",
     "start_time": "2020-05-11T23:14:05.397372Z"
    }
   },
   "outputs": [],
   "source": [
    "def sanitize(x):\n",
    "    try:\n",
    "        #kalau cell berisi list\n",
    "        if isinstance(x, list):\n",
    "            return [i.replace(' ','').lower() for i in x]\n",
    "        #kalau cell berisi string\n",
    "        else:\n",
    "            return [x.replace(' ','').lower()]\n",
    "    except:\n",
    "        print(x)"
   ]
  },
  {
   "cell_type": "code",
   "execution_count": 347,
   "metadata": {
    "ExecuteTime": {
     "end_time": "2020-05-11T23:14:05.939454Z",
     "start_time": "2020-05-11T23:14:05.921847Z"
    }
   },
   "outputs": [
    {
     "name": "stderr",
     "output_type": "stream",
     "text": [
      "/Users/karlchristian/anaconda3/lib/python3.7/site-packages/ipykernel_launcher.py:4: SettingWithCopyWarning: \n",
      "A value is trying to be set on a copy of a slice from a DataFrame.\n",
      "Try using .loc[row_indexer,col_indexer] = value instead\n",
      "\n",
      "See the caveats in the documentation: http://pandas.pydata.org/pandas-docs/stable/user_guide/indexing.html#returning-a-view-versus-a-copy\n",
      "  after removing the cwd from sys.path.\n"
     ]
    }
   ],
   "source": [
    "feature_cols = ['cast_name','genres','writer_name','director_name']\n",
    "\n",
    "for col in feature_cols:\n",
    "    feature_df[col] = feature_df[col].apply(sanitize)"
   ]
  },
  {
   "cell_type": "code",
   "execution_count": 348,
   "metadata": {
    "ExecuteTime": {
     "end_time": "2020-05-11T23:14:06.512953Z",
     "start_time": "2020-05-11T23:14:06.498793Z"
    },
    "scrolled": true
   },
   "outputs": [
    {
     "data": {
      "text/html": [
       "<div>\n",
       "<style scoped>\n",
       "    .dataframe tbody tr th:only-of-type {\n",
       "        vertical-align: middle;\n",
       "    }\n",
       "\n",
       "    .dataframe tbody tr th {\n",
       "        vertical-align: top;\n",
       "    }\n",
       "\n",
       "    .dataframe thead th {\n",
       "        text-align: right;\n",
       "    }\n",
       "</style>\n",
       "<table border=\"1\" class=\"dataframe\">\n",
       "  <thead>\n",
       "    <tr style=\"text-align: right;\">\n",
       "      <th></th>\n",
       "      <th>title</th>\n",
       "      <th>cast_name</th>\n",
       "      <th>genres</th>\n",
       "      <th>director_name</th>\n",
       "      <th>writer_name</th>\n",
       "    </tr>\n",
       "  </thead>\n",
       "  <tbody>\n",
       "    <tr>\n",
       "      <th>0</th>\n",
       "      <td>The Love Expert</td>\n",
       "      <td>[natalietalmadge]</td>\n",
       "      <td>[comedy, romance]</td>\n",
       "      <td>[davidkirkland]</td>\n",
       "      <td>[johnemerson, anitaloos]</td>\n",
       "    </tr>\n",
       "    <tr>\n",
       "      <th>1</th>\n",
       "      <td>Yes or No</td>\n",
       "      <td>[natalietalmadge]</td>\n",
       "      <td>[unknown]</td>\n",
       "      <td>[roywilliamneill]</td>\n",
       "      <td>[arthurf.goodrich, burnsmantle, marymurillo]</td>\n",
       "    </tr>\n",
       "    <tr>\n",
       "      <th>2</th>\n",
       "      <td>Our Hospitality</td>\n",
       "      <td>[natalietalmadge]</td>\n",
       "      <td>[comedy, romance, thriller]</td>\n",
       "      <td>[busterkeaton, johng.blystone]</td>\n",
       "      <td>[jeanc.havez, clydebruckman, josepha.mitchell]</td>\n",
       "    </tr>\n",
       "    <tr>\n",
       "      <th>3</th>\n",
       "      <td>The King of Kings</td>\n",
       "      <td>[reekaroberts]</td>\n",
       "      <td>[biography, drama, history]</td>\n",
       "      <td>[cecilb.demille]</td>\n",
       "      <td>[jeaniemacpherson]</td>\n",
       "    </tr>\n",
       "    <tr>\n",
       "      <th>4</th>\n",
       "      <td>I Cover the Waterfront</td>\n",
       "      <td>[jameshackett]</td>\n",
       "      <td>[drama, romance]</td>\n",
       "      <td>[jamescruze]</td>\n",
       "      <td>[maxmiller, wellsroot, jackjevne]</td>\n",
       "    </tr>\n",
       "  </tbody>\n",
       "</table>\n",
       "</div>"
      ],
      "text/plain": [
       "                    title          cast_name                       genres  \\\n",
       "0         The Love Expert  [natalietalmadge]            [comedy, romance]   \n",
       "1               Yes or No  [natalietalmadge]                    [unknown]   \n",
       "2         Our Hospitality  [natalietalmadge]  [comedy, romance, thriller]   \n",
       "3       The King of Kings     [reekaroberts]  [biography, drama, history]   \n",
       "4  I Cover the Waterfront     [jameshackett]             [drama, romance]   \n",
       "\n",
       "                    director_name  \\\n",
       "0                 [davidkirkland]   \n",
       "1               [roywilliamneill]   \n",
       "2  [busterkeaton, johng.blystone]   \n",
       "3                [cecilb.demille]   \n",
       "4                    [jamescruze]   \n",
       "\n",
       "                                      writer_name  \n",
       "0                        [johnemerson, anitaloos]  \n",
       "1    [arthurf.goodrich, burnsmantle, marymurillo]  \n",
       "2  [jeanc.havez, clydebruckman, josepha.mitchell]  \n",
       "3                              [jeaniemacpherson]  \n",
       "4               [maxmiller, wellsroot, jackjevne]  "
      ]
     },
     "execution_count": 348,
     "metadata": {},
     "output_type": "execute_result"
    }
   ],
   "source": [
    "feature_df.head()"
   ]
  },
  {
   "cell_type": "markdown",
   "metadata": {},
   "source": [
    "sepertinya function kita di atas berhasil"
   ]
  },
  {
   "cell_type": "markdown",
   "metadata": {},
   "source": [
    "#### Pertanyaan 2: Bagaimana cara membuat fungsi untuk membuat metadata soup (menggabungkan semua feature menjadi 1 bagian kalimat) untuk setiap judulnya?"
   ]
  },
  {
   "cell_type": "code",
   "execution_count": 349,
   "metadata": {
    "ExecuteTime": {
     "end_time": "2020-05-11T23:14:13.213359Z",
     "start_time": "2020-05-11T23:14:13.210123Z"
    }
   },
   "outputs": [],
   "source": [
    "def soup_feature(x):\n",
    "    return ' '.join(x['cast_name']) + ' ' + ' '.join(x['genres']) + ' ' + ' '.join(x['director_name']) + ' ' + ' '.join(x['writer_name'])"
   ]
  },
  {
   "cell_type": "code",
   "execution_count": 350,
   "metadata": {
    "ExecuteTime": {
     "end_time": "2020-05-11T23:14:15.120306Z",
     "start_time": "2020-05-11T23:14:15.059720Z"
    }
   },
   "outputs": [
    {
     "name": "stderr",
     "output_type": "stream",
     "text": [
      "/Users/karlchristian/anaconda3/lib/python3.7/site-packages/ipykernel_launcher.py:2: SettingWithCopyWarning: \n",
      "A value is trying to be set on a copy of a slice from a DataFrame.\n",
      "Try using .loc[row_indexer,col_indexer] = value instead\n",
      "\n",
      "See the caveats in the documentation: http://pandas.pydata.org/pandas-docs/stable/user_guide/indexing.html#returning-a-view-versus-a-copy\n",
      "  \n"
     ]
    }
   ],
   "source": [
    "#membuat soup menjadi 1 kolom sendiri\n",
    "feature_df['soup'] = feature_df.apply(soup_feature, axis=1)"
   ]
  },
  {
   "cell_type": "code",
   "execution_count": 351,
   "metadata": {
    "ExecuteTime": {
     "end_time": "2020-05-11T23:14:15.678183Z",
     "start_time": "2020-05-11T23:14:15.663598Z"
    }
   },
   "outputs": [
    {
     "data": {
      "text/html": [
       "<div>\n",
       "<style scoped>\n",
       "    .dataframe tbody tr th:only-of-type {\n",
       "        vertical-align: middle;\n",
       "    }\n",
       "\n",
       "    .dataframe tbody tr th {\n",
       "        vertical-align: top;\n",
       "    }\n",
       "\n",
       "    .dataframe thead th {\n",
       "        text-align: right;\n",
       "    }\n",
       "</style>\n",
       "<table border=\"1\" class=\"dataframe\">\n",
       "  <thead>\n",
       "    <tr style=\"text-align: right;\">\n",
       "      <th></th>\n",
       "      <th>title</th>\n",
       "      <th>cast_name</th>\n",
       "      <th>genres</th>\n",
       "      <th>director_name</th>\n",
       "      <th>writer_name</th>\n",
       "      <th>soup</th>\n",
       "    </tr>\n",
       "  </thead>\n",
       "  <tbody>\n",
       "    <tr>\n",
       "      <th>0</th>\n",
       "      <td>The Love Expert</td>\n",
       "      <td>[natalietalmadge]</td>\n",
       "      <td>[comedy, romance]</td>\n",
       "      <td>[davidkirkland]</td>\n",
       "      <td>[johnemerson, anitaloos]</td>\n",
       "      <td>natalietalmadge comedy romance davidkirkland j...</td>\n",
       "    </tr>\n",
       "    <tr>\n",
       "      <th>1</th>\n",
       "      <td>Yes or No</td>\n",
       "      <td>[natalietalmadge]</td>\n",
       "      <td>[unknown]</td>\n",
       "      <td>[roywilliamneill]</td>\n",
       "      <td>[arthurf.goodrich, burnsmantle, marymurillo]</td>\n",
       "      <td>natalietalmadge unknown roywilliamneill arthur...</td>\n",
       "    </tr>\n",
       "    <tr>\n",
       "      <th>2</th>\n",
       "      <td>Our Hospitality</td>\n",
       "      <td>[natalietalmadge]</td>\n",
       "      <td>[comedy, romance, thriller]</td>\n",
       "      <td>[busterkeaton, johng.blystone]</td>\n",
       "      <td>[jeanc.havez, clydebruckman, josepha.mitchell]</td>\n",
       "      <td>natalietalmadge comedy romance thriller buster...</td>\n",
       "    </tr>\n",
       "    <tr>\n",
       "      <th>3</th>\n",
       "      <td>The King of Kings</td>\n",
       "      <td>[reekaroberts]</td>\n",
       "      <td>[biography, drama, history]</td>\n",
       "      <td>[cecilb.demille]</td>\n",
       "      <td>[jeaniemacpherson]</td>\n",
       "      <td>reekaroberts biography drama history cecilb.de...</td>\n",
       "    </tr>\n",
       "    <tr>\n",
       "      <th>4</th>\n",
       "      <td>I Cover the Waterfront</td>\n",
       "      <td>[jameshackett]</td>\n",
       "      <td>[drama, romance]</td>\n",
       "      <td>[jamescruze]</td>\n",
       "      <td>[maxmiller, wellsroot, jackjevne]</td>\n",
       "      <td>jameshackett drama romance jamescruze maxmille...</td>\n",
       "    </tr>\n",
       "  </tbody>\n",
       "</table>\n",
       "</div>"
      ],
      "text/plain": [
       "                    title          cast_name                       genres  \\\n",
       "0         The Love Expert  [natalietalmadge]            [comedy, romance]   \n",
       "1               Yes or No  [natalietalmadge]                    [unknown]   \n",
       "2         Our Hospitality  [natalietalmadge]  [comedy, romance, thriller]   \n",
       "3       The King of Kings     [reekaroberts]  [biography, drama, history]   \n",
       "4  I Cover the Waterfront     [jameshackett]             [drama, romance]   \n",
       "\n",
       "                    director_name  \\\n",
       "0                 [davidkirkland]   \n",
       "1               [roywilliamneill]   \n",
       "2  [busterkeaton, johng.blystone]   \n",
       "3                [cecilb.demille]   \n",
       "4                    [jamescruze]   \n",
       "\n",
       "                                      writer_name  \\\n",
       "0                        [johnemerson, anitaloos]   \n",
       "1    [arthurf.goodrich, burnsmantle, marymurillo]   \n",
       "2  [jeanc.havez, clydebruckman, josepha.mitchell]   \n",
       "3                              [jeaniemacpherson]   \n",
       "4               [maxmiller, wellsroot, jackjevne]   \n",
       "\n",
       "                                                soup  \n",
       "0  natalietalmadge comedy romance davidkirkland j...  \n",
       "1  natalietalmadge unknown roywilliamneill arthur...  \n",
       "2  natalietalmadge comedy romance thriller buster...  \n",
       "3  reekaroberts biography drama history cecilb.de...  \n",
       "4  jameshackett drama romance jamescruze maxmille...  "
      ]
     },
     "execution_count": 351,
     "metadata": {},
     "output_type": "execute_result"
    }
   ],
   "source": [
    "feature_df.head()"
   ]
  },
  {
   "cell_type": "markdown",
   "metadata": {},
   "source": [
    "#### Pertanyaan 3: Cara menyiapkan CountVectorizer (stop_words = english) dan fit dengan soup yang kita buat di atas"
   ]
  },
  {
   "cell_type": "markdown",
   "metadata": {},
   "source": [
    "##### CountVectorizer\n",
    "\n",
    "CountVectorizer adalah tipe paling sederhana dari vectorizer. \n",
    "Supaya lebih mudah akan dijelaskan melalui contoh di bawah ini:\n",
    "\n",
    "bayangkan terdapat 3 text A, B, dan C, dimana text nya adalah:\n",
    "A : The Sun is a star\n",
    "B : My Love is like a red, red rose\n",
    "C : Mary had a little lamb\n",
    "\n",
    "Sekarang kita harus konversi text-text ini menjadi bentuk vector menggunakan CountVectorizer. Langkah-langkahnya adalah:\n",
    "menghitung ukuran dari vocabulary. Vocabulary adalah jumlah dari kata unik yang ada dari text tersebut. \n",
    "\n",
    "<br> Oleh sebab itu, vocabulary dari set ketiga text tersebut adalah: the, sun, is, a, star, my, love, like, red, rose, mary, had, little, lamb. Secara total, ukuran vocabulary adalah 14.\n",
    "\n",
    "<br> Tetapi, biasanya kita tidak include stop words (english), seperti as, is, a, the, dan sebagainya karena itu adalah kata yang sudah common sekali.\n",
    "\n",
    "<br> Dengan mengeliminasi stop words, maka clean size vocabulary kita adalah like, little, lamb, love, mary, red, rose, sun, star (sorted alphabet ascending)\n",
    "<br> Maka, dengan menggunakan CountVectorizer, maka hasil yang kita dapatkan adalah sebagai berikut:\n",
    "\n",
    "<br> A : (0,0,0,0,0,0,0,1,1), terdiri atas sun:1, star:1\n",
    "<br> B : (1,0,0,1,0,2,1,0,0), terdiri atas like:1, love:1, red:2, rose:1\n",
    "<br> C : (0,1,1,0,1,0,0,0,0), terdiri atas little:1, lamb:1, mary:1"
   ]
  },
  {
   "cell_type": "code",
   "execution_count": 463,
   "metadata": {
    "ExecuteTime": {
     "end_time": "2020-05-12T00:14:45.952639Z",
     "start_time": "2020-05-12T00:14:45.907012Z"
    }
   },
   "outputs": [],
   "source": [
    "from sklearn.feature_extraction.text import CountVectorizer\n",
    "\n",
    "#definisikan CountVectorizer dan mengubah soup tadi menjadi bentuk vector\n",
    "count = CountVectorizer(stop_words='english')\n",
    "count_matrix = count.fit_transform(feature_df['soup'])"
   ]
  },
  {
   "cell_type": "code",
   "execution_count": 353,
   "metadata": {
    "ExecuteTime": {
     "end_time": "2020-05-11T23:14:21.014525Z",
     "start_time": "2020-05-11T23:14:21.010564Z"
    }
   },
   "outputs": [
    {
     "data": {
      "text/plain": [
       "CountVectorizer(analyzer='word', binary=False, decode_error='strict',\n",
       "                dtype=<class 'numpy.int64'>, encoding='utf-8', input='content',\n",
       "                lowercase=True, max_df=1.0, max_features=None, min_df=1,\n",
       "                ngram_range=(1, 1), preprocessor=None, stop_words='english',\n",
       "                strip_accents=None, token_pattern='(?u)\\\\b\\\\w\\\\w+\\\\b',\n",
       "                tokenizer=None, vocabulary=None)"
      ]
     },
     "execution_count": 353,
     "metadata": {},
     "output_type": "execute_result"
    }
   ],
   "source": [
    "count"
   ]
  },
  {
   "cell_type": "code",
   "execution_count": 354,
   "metadata": {
    "ExecuteTime": {
     "end_time": "2020-05-11T23:14:21.287006Z",
     "start_time": "2020-05-11T23:14:21.283065Z"
    }
   },
   "outputs": [
    {
     "data": {
      "text/plain": [
       "(1060, 10026)"
      ]
     },
     "execution_count": 354,
     "metadata": {},
     "output_type": "execute_result"
    }
   ],
   "source": [
    "count_matrix.shape"
   ]
  },
  {
   "cell_type": "markdown",
   "metadata": {},
   "source": [
    "kita telah membuat 10026 dimensional vector untuk mapping semua words yang ada di setiap judul"
   ]
  },
  {
   "cell_type": "markdown",
   "metadata": {},
   "source": [
    "#### Pertanyaan 4: Cara membuat model similarity antara count matrix"
   ]
  },
  {
   "cell_type": "markdown",
   "metadata": {},
   "source": [
    "pada langkah ini, kita akan menghitung score cosine similarity dari setiap pasangan judul (berdasarkan semua kombinasi pasangan yang ada, dengan kata lain kita akan membuat 675 x 675 matrix, dimana cell di kolom i dan j menunjukkan score similarity antara judul i dan j.\n",
    "kita dapat dengan mudah melihat bahwa matrix ini simetris dan setiap elemen pada diagonal adalah 1, karena itu adalah similarity score dengan dirinya sendiri"
   ]
  },
  {
   "attachments": {
    "image.png": {
     "image/png": "[encoded data removed]"
    }
   },
   "cell_type": "markdown",
   "metadata": {},
   "source": [
    "##### Cosine Similarity\n",
    "\n",
    "pada bagian ini, kita akan menggunakan formula cosine similarity untuk membuat model. Score cosine ini sangatlah berguna dan mudah untuk dihitung.\n",
    "\n",
    "formula untuk perhitungan cosine similarity antara 2 text, adalah sebagai berikut:\n",
    "![image.png](attachment:image.png)\n",
    "\n",
    "output yang didapat antara range -1 sampai 1. Score yang hampir mencapai 1 artinya kedua entitas tersebut sangatlah mirip sedangkan score yang hampir mencapai -1 artinya kedua entitas tersebut adalah beda"
   ]
  },
  {
   "cell_type": "code",
   "execution_count": 355,
   "metadata": {
    "ExecuteTime": {
     "end_time": "2020-05-11T23:14:24.303269Z",
     "start_time": "2020-05-11T23:14:24.288321Z"
    }
   },
   "outputs": [],
   "source": [
    "from sklearn.metrics.pairwise import cosine_similarity\n",
    "\n",
    "cosine_sim = cosine_similarity(count_matrix, count_matrix)"
   ]
  },
  {
   "cell_type": "code",
   "execution_count": 356,
   "metadata": {
    "ExecuteTime": {
     "end_time": "2020-05-11T23:14:25.717734Z",
     "start_time": "2020-05-11T23:14:25.713310Z"
    }
   },
   "outputs": [
    {
     "data": {
      "text/plain": [
       "array([[1.        , 0.15430335, 0.35355339, ..., 0.        , 0.        ,\n",
       "        0.13608276],\n",
       "       [0.15430335, 1.        , 0.10910895, ..., 0.        , 0.        ,\n",
       "        0.        ],\n",
       "       [0.35355339, 0.10910895, 1.        , ..., 0.        , 0.08703883,\n",
       "        0.09622504],\n",
       "       ...,\n",
       "       [0.        , 0.        , 0.        , ..., 1.        , 0.        ,\n",
       "        0.        ],\n",
       "       [0.        , 0.        , 0.08703883, ..., 0.        , 1.        ,\n",
       "        0.10050378],\n",
       "       [0.13608276, 0.        , 0.09622504, ..., 0.        , 0.10050378,\n",
       "        1.        ]])"
      ]
     },
     "execution_count": 356,
     "metadata": {},
     "output_type": "execute_result"
    }
   ],
   "source": [
    "cosine_sim"
   ]
  },
  {
   "cell_type": "markdown",
   "metadata": {},
   "source": [
    "#### Pertanyaan 5: Cara membuat content based recommender system"
   ]
  },
  {
   "cell_type": "markdown",
   "metadata": {},
   "source": [
    "kita lakukan reverse mapping dengan judul sebagai index nya"
   ]
  },
  {
   "cell_type": "code",
   "execution_count": 358,
   "metadata": {
    "ExecuteTime": {
     "end_time": "2020-05-11T23:14:33.245146Z",
     "start_time": "2020-05-11T23:14:33.238278Z"
    }
   },
   "outputs": [
    {
     "data": {
      "text/plain": [
       "title\n",
       "The Love Expert              0\n",
       "Yes or No                    1\n",
       "Our Hospitality              2\n",
       "The King of Kings            3\n",
       "I Cover the Waterfront       4\n",
       "                          ... \n",
       "UFC on ESPN               1055\n",
       "Bozkir                    1056\n",
       "Blue Story                1057\n",
       "Typewriter                1058\n",
       "Koko-di Koko-da           1059\n",
       "Length: 1060, dtype: int64"
      ]
     },
     "execution_count": 358,
     "metadata": {},
     "output_type": "execute_result"
    }
   ],
   "source": [
    "indices = pd.Series(feature_df.index, index=feature_df['title']).drop_duplicates()\n",
    "indices"
   ]
  },
  {
   "cell_type": "code",
   "execution_count": 367,
   "metadata": {
    "ExecuteTime": {
     "end_time": "2020-05-11T23:19:39.013605Z",
     "start_time": "2020-05-11T23:19:39.009431Z"
    }
   },
   "outputs": [],
   "source": [
    "def content_recommender(title):\n",
    "    #mendapatkan index dari judul film yang disebutkan\n",
    "    idx = indices[title]\n",
    "\n",
    "    #menjadikan list dari array similarity cosine sim tadi\n",
    "    #hint: cosine_sim[idx]\n",
    "    sim_scores = list(enumerate(cosine_sim[idx]))\n",
    "\n",
    "    #mengurutkan film dari similarity tertinggi ke terendah\n",
    "    #hint: sorted(iter, key, reverse)\n",
    "    sim_scores = sorted(sim_scores, key=lambda x: x[1], reverse=True)\n",
    "\n",
    "    #untuk mendapatkan list judul dari item kedua sampe ke 11 (abaikan yang pertama karena yang pertama pasti judul film itu sendiri)\n",
    "    sim_scores = sim_scores[1:11]\n",
    "\n",
    "    #mendapatkan index dari judul-judul yang muncul di sim_scores\n",
    "    movie_indices = [i[0] for i in sim_scores]\n",
    "\n",
    "    #dengan menggunakan iloc, kita bisa panggil balik berdasarkan index dari movie_indices\n",
    "    return base_df.iloc[movie_indices]"
   ]
  },
  {
   "cell_type": "code",
   "execution_count": 369,
   "metadata": {
    "ExecuteTime": {
     "end_time": "2020-05-11T23:20:21.660920Z",
     "start_time": "2020-05-11T23:20:21.637956Z"
    }
   },
   "outputs": [
    {
     "data": {
      "text/html": [
       "<div>\n",
       "<style scoped>\n",
       "    .dataframe tbody tr th:only-of-type {\n",
       "        vertical-align: middle;\n",
       "    }\n",
       "\n",
       "    .dataframe tbody tr th {\n",
       "        vertical-align: top;\n",
       "    }\n",
       "\n",
       "    .dataframe thead th {\n",
       "        text-align: right;\n",
       "    }\n",
       "</style>\n",
       "<table border=\"1\" class=\"dataframe\">\n",
       "  <thead>\n",
       "    <tr style=\"text-align: right;\">\n",
       "      <th></th>\n",
       "      <th>title</th>\n",
       "      <th>type</th>\n",
       "      <th>start</th>\n",
       "      <th>duration</th>\n",
       "      <th>genres</th>\n",
       "      <th>rating</th>\n",
       "      <th>votes</th>\n",
       "      <th>cast_name</th>\n",
       "      <th>director_name</th>\n",
       "      <th>writer_name</th>\n",
       "    </tr>\n",
       "  </thead>\n",
       "  <tbody>\n",
       "    <tr>\n",
       "      <th>848</th>\n",
       "      <td>The Jungle Book</td>\n",
       "      <td>movie</td>\n",
       "      <td>2016.0</td>\n",
       "      <td>106.0</td>\n",
       "      <td>[Adventure, Drama, Family]</td>\n",
       "      <td>7.4</td>\n",
       "      <td>250994</td>\n",
       "      <td>[Cristina Carrión Márquez]</td>\n",
       "      <td>[Jon Favreau]</td>\n",
       "      <td>[Justin Marks, Rudyard Kipling]</td>\n",
       "    </tr>\n",
       "    <tr>\n",
       "      <th>383</th>\n",
       "      <td>The Animals of Farthing Wood</td>\n",
       "      <td>tvSeries</td>\n",
       "      <td>1993.0</td>\n",
       "      <td>25.0</td>\n",
       "      <td>[Adventure, Animation, Drama]</td>\n",
       "      <td>8.3</td>\n",
       "      <td>3057</td>\n",
       "      <td>[Francisco Bretas]</td>\n",
       "      <td>[Elphin Lloyd-Jones, Philippe Leclerc]</td>\n",
       "      <td>[Valerie Georgeson, Colin Dann, Jenny McDade, ...</td>\n",
       "    </tr>\n",
       "    <tr>\n",
       "      <th>1002</th>\n",
       "      <td>Made in Abyss</td>\n",
       "      <td>tvSeries</td>\n",
       "      <td>2017.0</td>\n",
       "      <td>325.0</td>\n",
       "      <td>[Adventure, Animation, Drama]</td>\n",
       "      <td>8.4</td>\n",
       "      <td>4577</td>\n",
       "      <td>[Hiroki Matsukawa]</td>\n",
       "      <td>[Masayuki Kojima, Hitoshi Haga, Shinya Iino, T...</td>\n",
       "      <td>[Akihito Tsukushi, Keigo Koyanagi, Hideyuki Ku...</td>\n",
       "    </tr>\n",
       "    <tr>\n",
       "      <th>73</th>\n",
       "      <td>Robin and Marian</td>\n",
       "      <td>movie</td>\n",
       "      <td>1976.0</td>\n",
       "      <td>106.0</td>\n",
       "      <td>[Adventure, Drama, Romance]</td>\n",
       "      <td>6.5</td>\n",
       "      <td>10830</td>\n",
       "      <td>[Joaquín Parra]</td>\n",
       "      <td>[Richard Lester]</td>\n",
       "      <td>[James Goldman]</td>\n",
       "    </tr>\n",
       "    <tr>\n",
       "      <th>232</th>\n",
       "      <td>The Edge</td>\n",
       "      <td>movie</td>\n",
       "      <td>1997.0</td>\n",
       "      <td>117.0</td>\n",
       "      <td>[Action, Adventure, Drama]</td>\n",
       "      <td>6.9</td>\n",
       "      <td>65673</td>\n",
       "      <td>[Chris Kosloski]</td>\n",
       "      <td>[Lee Tamahori]</td>\n",
       "      <td>[David Mamet]</td>\n",
       "    </tr>\n",
       "    <tr>\n",
       "      <th>556</th>\n",
       "      <td>Made in Abyss: Journey's Dawn</td>\n",
       "      <td>movie</td>\n",
       "      <td>2019.0</td>\n",
       "      <td>139.0</td>\n",
       "      <td>[Adventure, Animation, Fantasy]</td>\n",
       "      <td>7.4</td>\n",
       "      <td>81</td>\n",
       "      <td>[Hiroki Matsukawa]</td>\n",
       "      <td>[Masayuki Kojima]</td>\n",
       "      <td>[Akihito Tsukushi]</td>\n",
       "    </tr>\n",
       "    <tr>\n",
       "      <th>9</th>\n",
       "      <td>Boss of Lonely Valley</td>\n",
       "      <td>movie</td>\n",
       "      <td>1937.0</td>\n",
       "      <td>60.0</td>\n",
       "      <td>[Action, Adventure, Drama]</td>\n",
       "      <td>6.2</td>\n",
       "      <td>41</td>\n",
       "      <td>[Bernard Loftus]</td>\n",
       "      <td>[Ray Taylor]</td>\n",
       "      <td>[Frances Guihan, Forrest Brown]</td>\n",
       "    </tr>\n",
       "    <tr>\n",
       "      <th>191</th>\n",
       "      <td>The Princess and the Goblin</td>\n",
       "      <td>movie</td>\n",
       "      <td>1991.0</td>\n",
       "      <td>82.0</td>\n",
       "      <td>[Adventure, Animation, Comedy]</td>\n",
       "      <td>6.8</td>\n",
       "      <td>2350</td>\n",
       "      <td>[Simon Mayal]</td>\n",
       "      <td>[József Gémes]</td>\n",
       "      <td>[Robin Lyons, George MacDonald]</td>\n",
       "    </tr>\n",
       "    <tr>\n",
       "      <th>803</th>\n",
       "      <td>Ostwind</td>\n",
       "      <td>movie</td>\n",
       "      <td>2013.0</td>\n",
       "      <td>101.0</td>\n",
       "      <td>[Adventure, Drama, Family]</td>\n",
       "      <td>6.8</td>\n",
       "      <td>1350</td>\n",
       "      <td>[Sina Müller]</td>\n",
       "      <td>[Katja von Garnier]</td>\n",
       "      <td>[Kristina Magdalena Henn, Lea Schmidbauer]</td>\n",
       "    </tr>\n",
       "    <tr>\n",
       "      <th>983</th>\n",
       "      <td>The Skinner Boys: Guardians of the Lost Secrets</td>\n",
       "      <td>tvSeries</td>\n",
       "      <td>2014.0</td>\n",
       "      <td>23.0</td>\n",
       "      <td>[Adventure, Animation, Drama]</td>\n",
       "      <td>7.8</td>\n",
       "      <td>12</td>\n",
       "      <td>[Jo Boag]</td>\n",
       "      <td>[Pablo De La Torre, Eugene Linkov, Jo Boag]</td>\n",
       "      <td>[David Witt, John Derevlany, David Evans, Pete...</td>\n",
       "    </tr>\n",
       "  </tbody>\n",
       "</table>\n",
       "</div>"
      ],
      "text/plain": [
       "                                                title      type   start  \\\n",
       "848                                   The Jungle Book     movie  2016.0   \n",
       "383                      The Animals of Farthing Wood  tvSeries  1993.0   \n",
       "1002                                    Made in Abyss  tvSeries  2017.0   \n",
       "73                                   Robin and Marian     movie  1976.0   \n",
       "232                                          The Edge     movie  1997.0   \n",
       "556                     Made in Abyss: Journey's Dawn     movie  2019.0   \n",
       "9                               Boss of Lonely Valley     movie  1937.0   \n",
       "191                       The Princess and the Goblin     movie  1991.0   \n",
       "803                                           Ostwind     movie  2013.0   \n",
       "983   The Skinner Boys: Guardians of the Lost Secrets  tvSeries  2014.0   \n",
       "\n",
       "      duration                           genres  rating   votes  \\\n",
       "848      106.0       [Adventure, Drama, Family]     7.4  250994   \n",
       "383       25.0    [Adventure, Animation, Drama]     8.3    3057   \n",
       "1002     325.0    [Adventure, Animation, Drama]     8.4    4577   \n",
       "73       106.0      [Adventure, Drama, Romance]     6.5   10830   \n",
       "232      117.0       [Action, Adventure, Drama]     6.9   65673   \n",
       "556      139.0  [Adventure, Animation, Fantasy]     7.4      81   \n",
       "9         60.0       [Action, Adventure, Drama]     6.2      41   \n",
       "191       82.0   [Adventure, Animation, Comedy]     6.8    2350   \n",
       "803      101.0       [Adventure, Drama, Family]     6.8    1350   \n",
       "983       23.0    [Adventure, Animation, Drama]     7.8      12   \n",
       "\n",
       "                       cast_name  \\\n",
       "848   [Cristina Carrión Márquez]   \n",
       "383           [Francisco Bretas]   \n",
       "1002          [Hiroki Matsukawa]   \n",
       "73               [Joaquín Parra]   \n",
       "232             [Chris Kosloski]   \n",
       "556           [Hiroki Matsukawa]   \n",
       "9               [Bernard Loftus]   \n",
       "191                [Simon Mayal]   \n",
       "803                [Sina Müller]   \n",
       "983                    [Jo Boag]   \n",
       "\n",
       "                                          director_name  \\\n",
       "848                                       [Jon Favreau]   \n",
       "383              [Elphin Lloyd-Jones, Philippe Leclerc]   \n",
       "1002  [Masayuki Kojima, Hitoshi Haga, Shinya Iino, T...   \n",
       "73                                     [Richard Lester]   \n",
       "232                                      [Lee Tamahori]   \n",
       "556                                   [Masayuki Kojima]   \n",
       "9                                          [Ray Taylor]   \n",
       "191                                      [József Gémes]   \n",
       "803                                 [Katja von Garnier]   \n",
       "983         [Pablo De La Torre, Eugene Linkov, Jo Boag]   \n",
       "\n",
       "                                            writer_name  \n",
       "848                     [Justin Marks, Rudyard Kipling]  \n",
       "383   [Valerie Georgeson, Colin Dann, Jenny McDade, ...  \n",
       "1002  [Akihito Tsukushi, Keigo Koyanagi, Hideyuki Ku...  \n",
       "73                                      [James Goldman]  \n",
       "232                                       [David Mamet]  \n",
       "556                                  [Akihito Tsukushi]  \n",
       "9                       [Frances Guihan, Forrest Brown]  \n",
       "191                     [Robin Lyons, George MacDonald]  \n",
       "803          [Kristina Magdalena Henn, Lea Schmidbauer]  \n",
       "983   [David Witt, John Derevlany, David Evans, Pete...  "
      ]
     },
     "execution_count": 369,
     "metadata": {},
     "output_type": "execute_result"
    }
   ],
   "source": [
    "#rekomendasi dari content based recommender system\n",
    "content_recommender('The Lion King')"
   ]
  },
  {
   "cell_type": "code",
   "execution_count": 370,
   "metadata": {
    "ExecuteTime": {
     "end_time": "2020-05-11T23:20:54.093764Z",
     "start_time": "2020-05-11T23:20:54.080975Z"
    }
   },
   "outputs": [
    {
     "data": {
      "text/html": [
       "<div>\n",
       "<style scoped>\n",
       "    .dataframe tbody tr th:only-of-type {\n",
       "        vertical-align: middle;\n",
       "    }\n",
       "\n",
       "    .dataframe tbody tr th {\n",
       "        vertical-align: top;\n",
       "    }\n",
       "\n",
       "    .dataframe thead th {\n",
       "        text-align: right;\n",
       "    }\n",
       "</style>\n",
       "<table border=\"1\" class=\"dataframe\">\n",
       "  <thead>\n",
       "    <tr style=\"text-align: right;\">\n",
       "      <th></th>\n",
       "      <th>title</th>\n",
       "      <th>type</th>\n",
       "      <th>start</th>\n",
       "      <th>duration</th>\n",
       "      <th>genres</th>\n",
       "      <th>rating</th>\n",
       "      <th>votes</th>\n",
       "      <th>cast_name</th>\n",
       "      <th>director_name</th>\n",
       "      <th>writer_name</th>\n",
       "    </tr>\n",
       "  </thead>\n",
       "  <tbody>\n",
       "    <tr>\n",
       "      <th>974</th>\n",
       "      <td>The Lion King</td>\n",
       "      <td>movie</td>\n",
       "      <td>2019.0</td>\n",
       "      <td>118.0</td>\n",
       "      <td>[Adventure, Animation, Drama]</td>\n",
       "      <td>6.9</td>\n",
       "      <td>185808</td>\n",
       "      <td>[Rainy Kala]</td>\n",
       "      <td>[Jon Favreau]</td>\n",
       "      <td>[Jonathan Roberts, Jeff Nathanson, Irene Mecch...</td>\n",
       "    </tr>\n",
       "  </tbody>\n",
       "</table>\n",
       "</div>"
      ],
      "text/plain": [
       "             title   type   start  duration                         genres  \\\n",
       "974  The Lion King  movie  2019.0     118.0  [Adventure, Animation, Drama]   \n",
       "\n",
       "     rating   votes     cast_name  director_name  \\\n",
       "974     6.9  185808  [Rainy Kala]  [Jon Favreau]   \n",
       "\n",
       "                                           writer_name  \n",
       "974  [Jonathan Roberts, Jeff Nathanson, Irene Mecch...  "
      ]
     },
     "execution_count": 370,
     "metadata": {},
     "output_type": "execute_result"
    }
   ],
   "source": [
    "#metadata dari film itu sendiri\n",
    "base_df[base_df['title'] == 'The Lion King']"
   ]
  },
  {
   "cell_type": "markdown",
   "metadata": {},
   "source": [
    "seperti kita lihat di sana, dengan membandingkan feature genre, cast_name, director_name, dan writer_name, recommender system bisa merekomendasikan daftar film yang memiliki feature paling mirip dengan judul yang kita mention.\n",
    "\n",
    "<br> yang paling pertama adalah 'The Jungle Book', dengan director_name sama dengan director 'The Lion King', film yang lain memiliki genres yang typically sama dengan film 'The Lion King'\n",
    "<br> Hal ini membuktikan bahwa content based recommender system kita telah berhasil"
   ]
  },
  {
   "cell_type": "markdown",
   "metadata": {},
   "source": [
    "## BONUS - Creating Search Engine for Title"
   ]
  },
  {
   "cell_type": "markdown",
   "metadata": {},
   "source": [
    "kamu tidak mungkin bisa ingat title film secara detail, bahkan mungkin ketika ingat 'lion king', kamu akan lupa untuk menambahkan 'the lion king', ketika judul film itu tidak detail, maka content based recommender system yang kamu build di atas akan gagal menemukan index judul tersebut.\n",
    "<br> Oleh sebab itu, kita akan buat content based recommender system lagi yang berfungsi sebagai search engine dari bagian judul yang kamu ingat, misal hanya mengetik 'lion' akan keluar 3 rekomendasi judul teratas dari yang paling mirip"
   ]
  },
  {
   "cell_type": "code",
   "execution_count": 464,
   "metadata": {
    "ExecuteTime": {
     "end_time": "2020-05-12T00:16:57.815438Z",
     "start_time": "2020-05-12T00:16:57.809148Z"
    }
   },
   "outputs": [],
   "source": [
    "def search_title(title):\n",
    "    #membuat judul menjadi lowercase\n",
    "    title = title.lower()\n",
    "    \n",
    "    #database judul\n",
    "    movie_upper = base_df['title']\n",
    "    \n",
    "    #membuat semua judul dari database judul menjadi lowercase\n",
    "    movie_db = base_df['title'].apply(lambda row: row.lower())\n",
    "    #append title ke movie_db supaya nanti bisa dibandingkan\n",
    "    movie_db = movie_db.append(pd.Series(title)).reset_index(drop=True)\n",
    "    \n",
    "    #memasukkan movie_db menjadi vector dan menghitung similari dari pairwise judul\n",
    "    sim_matrix = count.fit_transform(movie_db)\n",
    "    sim_pairwise = cosine_similarity(sim_matrix, sim_matrix)\n",
    "    \n",
    "    #reverse mapping menjadikan judul sebagai index\n",
    "    search_indices = pd.Series(movie_db.index, index=movie_db.values).drop_duplicates()\n",
    "    #mendapatkan index dari title yang kita cari\n",
    "    idx = search_indices[title]\n",
    "    \n",
    "    #mengubah model similarity menjadi list\n",
    "    sim_scores = list(enumerate(sim_pairwise[idx]))\n",
    "    #mengurutkan judul dari kemiripan tertinggi ke terendah\n",
    "    sim_scores = sorted(sim_scores, key=lambda x: x[1], reverse=True)\n",
    "    #memunculkan 5 kecocokan teratas\n",
    "    sim_scores = sim_scores[1:6]\n",
    "    #memunculkan index dari 5 kecocokan teratas\n",
    "    movie_indices = [i[0] for i in sim_scores]\n",
    "\n",
    "    return movie_upper.loc[movie_indices]"
   ]
  },
  {
   "cell_type": "code",
   "execution_count": 469,
   "metadata": {
    "ExecuteTime": {
     "end_time": "2020-05-12T00:18:14.431217Z",
     "start_time": "2020-05-12T00:18:14.411774Z"
    }
   },
   "outputs": [
    {
     "data": {
      "text/plain": [
       "974       The Lion King\n",
       "1005        Lion Killer\n",
       "0       The Love Expert\n",
       "1             Yes or No\n",
       "2       Our Hospitality\n",
       "Name: title, dtype: object"
      ]
     },
     "execution_count": 469,
     "metadata": {},
     "output_type": "execute_result"
    }
   ],
   "source": [
    "search_title('lion')"
   ]
  },
  {
   "cell_type": "markdown",
   "metadata": {},
   "source": [
    "Dari contoh di atas, ketika kita input hanya 'lion' search engine akan mencari kecocokan secara otomatis dari semua judul yang kita store dalam movie_db, mengurutkan kecocokan nya dan menampilkan 5 teratas.\n",
    "<br> <br> Setelah kita membuat search engine untuk judul ini maka kita bisa mencari content_recommender dari judul yang kita inginkan"
   ]
  }
 ],
 "metadata": {
  "kernelspec": {
   "display_name": "Python 3",
   "language": "python",
   "name": "python3"
  },
  "language_info": {
   "codemirror_mode": {
    "name": "ipython",
    "version": 3
   },
   "file_extension": ".py",
   "mimetype": "text/x-python",
   "name": "python",
   "nbconvert_exporter": "python",
   "pygments_lexer": "ipython3",
   "version": "3.7.3"
  },
  "toc": {
   "base_numbering": 1,
   "nav_menu": {},
   "number_sections": false,
   "sideBar": true,
   "skip_h1_title": false,
   "title_cell": "Table of Contents",
   "title_sidebar": "Contents",
   "toc_cell": false,
   "toc_position": {},
   "toc_section_display": true,
   "toc_window_display": true
  }
 },
 "nbformat": 4,
 "nbformat_minor": 2
}
